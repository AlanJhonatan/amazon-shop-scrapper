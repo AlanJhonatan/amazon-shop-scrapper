{
 "cells": [
  {
   "cell_type": "code",
   "execution_count": 1,
   "metadata": {},
   "outputs": [],
   "source": [
    "from requests import Request, Session\n",
    "from bs4 import BeautifulSoup"
   ]
  },
  {
   "cell_type": "code",
   "execution_count": 2,
   "metadata": {},
   "outputs": [],
   "source": [
    "#set the search term here\n",
    "search_term = 'iphone'"
   ]
  },
  {
   "cell_type": "code",
   "execution_count": 3,
   "metadata": {},
   "outputs": [],
   "source": [
    "page = 0\n",
    "total_pages = 0\n",
    "soups = []"
   ]
  },
  {
   "cell_type": "code",
   "execution_count": 7,
   "metadata": {
    "scrolled": true
   },
   "outputs": [
    {
     "data": {
      "text/plain": [
       "'Functions setup made !'"
      ]
     },
     "execution_count": 7,
     "metadata": {},
     "output_type": "execute_result"
    }
   ],
   "source": [
    "def urlfier(url):\n",
    "    return ''.join(url)\n",
    "\n",
    "def extractText(info):\n",
    "    return BeautifulSoup(str(info), \"html.parser\").find(text=True)\n",
    "\n",
    "'Functions setup made !'"
   ]
  },
  {
   "cell_type": "code",
   "execution_count": 29,
   "metadata": {},
   "outputs": [
    {
     "data": {
      "text/plain": [
       "'Request prepped !'"
      ]
     },
     "execution_count": 29,
     "metadata": {},
     "output_type": "execute_result"
    }
   ],
   "source": [
    "#setting up the headers to allow multiple requests on API\n",
    "headers = {    \n",
    "    #setting as default browser.\n",
    "    \"User-Agent\": \"Mozilla/5.0 (Windows NT 10.0; Win64; x64) AppleWebKit/537.36 (KHTML, like Gecko) Chrome/87.0.4280.88 Safari/537.36\",\n",
    "    \n",
    "    #some configs i thought was important (i don't know yet)\n",
    "    \"authority\": \"www.amazon.com.br\",\n",
    "    \"scheme\": \"https\",\n",
    "    \"origin\": \"https://www.amazon.com.br\",\n",
    "    \n",
    "    \"accept\": \"text/html,*/*\",\n",
    "    \"accept-language\": \"en-US,en;q=0.9,ja-JP;q=0.8,ja;q=0.7,pt-BR;q=0.6,pt;q=0.5\",\n",
    "    \"content-type\": \"application/json\",\n",
    "    \"downlink\": \"50\",\n",
    "    \"ect\": \"4g\",\n",
    "    \"rtt\": \"100\",\n",
    "    \"sec-ch-ua\": \"\\\"Google Chrome\\\";v=\\\"87\\\", \\\" Not;A Brand\\\";v=\\\"99\\\", \\\"Chromium\\\";v=\\\"87\\\"\",\n",
    "    \"sec-ch-ua-mobile\": \"?0\",\n",
    "    \"sec-fetch-dest\": \"empty\",\n",
    "    \"sec-fetch-mode\": \"cors\",\n",
    "    \"sec-fetch-site\": \"same-origin\",\n",
    "    \"x-amazon-rush-fingerprints\": \"AmazonRushAssetLoader:82DC4FCDBC1BD29C851447C5E56300ACEBC3484E|AmazonRushFramework:C63458EFD5C6F3B9DB4C55251BDF45CAB84ACA9E|AmazonRushRouter:C88B480F313C8089B887E17289DB6E9437386461|SearchAssets:68AEE251205924E94A40052B6F4BBA8540827F9F|DynamicImageLoader:72044AC19F5D25484C3A6A210715639EB294450A|SearchPartnerAssets:C3828FDE58240400D60660B659C2BB69C3AF2C8C\",\n",
    "    \"x-amazon-s-fallback-url\": \"\",\n",
    "    \"x-amazon-s-mismatch-behavior\": \"ALLOW\",\n",
    "    \"x-amazon-s-swrs-version\": \"0265482AAA9506275F3AC0E0B1B2250D\",\n",
    "    \"x-requested-with\": \"XMLHttpRequest\"\n",
    "}\n",
    "\n",
    "payload = {\n",
    "    \"customer-action\": \"pagination\",\n",
    "    \"page-content-type\": \"btf\",\n",
    "    \"prefetch-type\": \"log\",\n",
    "}\n",
    "\n",
    "# Prepared Session\n",
    "URL = ['https://www.amazon.com.br/s?k= ', search_term,'&page=', page]\n",
    "\n",
    "s = Session()\n",
    "\n",
    "prepped = Request('GET',\n",
    "                  URL,\n",
    "                  headers=headers,\n",
    "                  params=payload\n",
    "                 ).prepare()\n"
   ]
  },
  {
   "cell_type": "code",
   "execution_count": 30,
   "metadata": {},
   "outputs": [
    {
     "data": {
      "text/plain": [
       "<Response [200]>"
      ]
     },
     "execution_count": 30,
     "metadata": {},
     "output_type": "execute_result"
    }
   ],
   "source": [
    "# make the request\n",
    "resp = s.send(prepped)\n",
    "soups.append(BeautifulSoup(resp.content, 'html.parser'))\n",
    "\n",
    "resp, soups"
   ]
  },
  {
   "cell_type": "code",
   "execution_count": 39,
   "metadata": {},
   "outputs": [
    {
     "ename": "NameError",
     "evalue": "name 'soups' is not defined",
     "output_type": "error",
     "traceback": [
      "\u001b[1;31m---------------------------------------------------------------------------\u001b[0m",
      "\u001b[1;31mNameError\u001b[0m                                 Traceback (most recent call last)",
      "\u001b[1;32m<ipython-input-39-cb243889b424>\u001b[0m in \u001b[0;36m<module>\u001b[1;34m\u001b[0m\n\u001b[1;32m----> 1\u001b[1;33m \u001b[0msoups\u001b[0m\u001b[1;33m.\u001b[0m\u001b[0mappend\u001b[0m\u001b[1;33m(\u001b[0m\u001b[0mBeautifulSoup\u001b[0m\u001b[1;33m(\u001b[0m\u001b[0mresp\u001b[0m\u001b[1;33m.\u001b[0m\u001b[0mcontent\u001b[0m\u001b[1;33m,\u001b[0m \u001b[1;34m'html.parser'\u001b[0m\u001b[1;33m)\u001b[0m\u001b[1;33m)\u001b[0m\u001b[1;33m\u001b[0m\u001b[1;33m\u001b[0m\u001b[0m\n\u001b[0m\u001b[0;32m      2\u001b[0m \u001b[1;33m\u001b[0m\u001b[0m\n\u001b[0;32m      3\u001b[0m \u001b[0msoups\u001b[0m\u001b[1;33m\u001b[0m\u001b[1;33m\u001b[0m\u001b[0m\n",
      "\u001b[1;31mNameError\u001b[0m: name 'soups' is not defined"
     ]
    }
   ],
   "source": []
  },
  {
   "cell_type": "code",
   "execution_count": 32,
   "metadata": {},
   "outputs": [],
   "source": [
    "#getting how much pages has the search\n",
    "soup.select('ul.a-pagination li[aria-disabled=true]')[0].get_text()"
   ]
  },
  {
   "cell_type": "code",
   "execution_count": 28,
   "metadata": {
    "scrolled": true
   },
   "outputs": [
    {
     "data": {
      "text/plain": [
       "[['Michaelis dicionário escolar francês', 'R$37,99'],\n",
       " ['Michaelis minidicionário francês', 'R$33,60'],\n",
       " ['Michaelis. Dicionário Escolar Frances. Frances-Português/Português-Frances',\n",
       "  'Sem Estoque.'],\n",
       " ['DICIONARIO ESCOLAR WMF - FRANCES-PORTUGUES / PORTUGUES-FRANCES', 'R$52,18'],\n",
       " ['Michaelis Dicionário Escolar Francês', 'R$45,00'],\n",
       " ['Dicionário Escolar Português-francês', 'R$24,00'],\n",
       " ['Michaelis Dicionário de Expressões Idiomáticas Inglês-Português', 'R$0,00'],\n",
       " ['Dicionário Moderno de Francês-Português Porto Editora / Dictionnaire Moderno Français-Portugais Porto Editora',\n",
       "  'R$34,99'],\n",
       " ['Grande Dicionário da Língua Portuguesa da Porto Editora', 'R$54,99'],\n",
       " ['Dicionário Francês-Português/ Português-Francês', 'R$79,20'],\n",
       " ['Dicionário Porto Editora da Língua Portuguesa', 'R$19,99'],\n",
       " ['Mini Dicionário Larousse. Francês-Português/ Português-Francês - Conforme Nova Ortografia',\n",
       "  'Sem Estoque.'],\n",
       " ['Michaelis francês gramática prática', 'R$34,99'],\n",
       " ['À Donf!: Dicionário de Gírias Francês-Português', 'R$30,80'],\n",
       " ['Dictionnaire Moderno Portugais-Français Porto Editora / Dicionário Moderno de Português-Francês Porto Editora',\n",
       "  'R$24,99'],\n",
       " ['Mini Dicionario Larousse - Frances', 'R$34,11'],\n",
       " ['Palavra-chave - Francês: Dicionário semibilíngue para brasileiros',\n",
       "  'R$80,38'],\n",
       " ['Michaelis dicionário de gírias – inglês-português', 'R$49,90'],\n",
       " ['Vocabulário Português-Francês - 3000 palavras mais úteis', 'R$18,71'],\n",
       " ['Mini Dicionario Larousse - Frances/Portugues - Portugues/Frances',\n",
       "  'Sem Estoque.'],\n",
       " ['Dicionário Rideel Francês Português Francês', 'Sem Estoque.'],\n",
       " ['Dicionário escolar WMF - Espanhol-Português / Português-Espanhol: Espanhol-Português / Português-Espanhol',\n",
       "  'R$45,43'],\n",
       " ['Francês em 30 Dias: Aprenda um Novo Idioma em Apenas um Mês',\n",
       "  'Sem Estoque.'],\n",
       " ['Minidicionário Francês-Português/ Português-Francês', 'R$73,00'],\n",
       " ['Dicionário Larousse Francês-Português', 'Sem Estoque.'],\n",
       " ['Dicionário Bertrand Francês/Português', 'Preço à tratar com vendedores.']]"
      ]
     },
     "execution_count": 28,
     "metadata": {},
     "output_type": "execute_result"
    }
   ],
   "source": [
    "rep = []\n",
    "ext = []\n",
    "\n",
    "#get all products of page\n",
    "products = soup.select('div [data-index][data-uuid]')\n",
    "\n",
    "for item in products:\n",
    "    aux1 = []\n",
    "    aux2 = []\n",
    "    #get name of product\n",
    "    name = extractText(item.select('h2 span')[0])\n",
    "\n",
    "    #get product price\n",
    "    price = item.select('span.a-offscreen')\n",
    "\n",
    "    #get stock of product\n",
    "    stock = item.select('div span[aria-label=\"Não disponível.\"] span[dir]')\n",
    "\n",
    "    if len(price) == 0:\n",
    "        if len(stock) == 0:\n",
    "            price = 'Sem Estoque.'\n",
    "        else:\n",
    "            price = 'Preço à tratar com vendedores.'\n",
    "    else:\n",
    "        price = extractText(price[0])\n",
    "\n",
    "    aux1.append([name, price]) #appending info into (auxiliary var) \n",
    "\n",
    "    stars = item.select('span.a-icon-alt') #get stars of product\n",
    "    if len(stars) == 0:\n",
    "        stars = 'Sem avaliação'\n",
    "    else:\n",
    "        stars = extractText(stars[0])\n",
    "\n",
    "    rates = item.select('span[aria-label] a span.a-size-base') #rates in a product\n",
    "    if len(rates) == 0:\n",
    "        rates = 'Sem avaliação'\n",
    "    else:\n",
    "        rates = extractText(rates[0])\n",
    "\n",
    "    #link of an product\n",
    "    link = 'http://www.amazon.com.br' + item.select('h2 a')[0].get('href')\n",
    "\n",
    "    #appending info into (auxiliary var)\n",
    "    aux2.append([link, stars, rates])\n",
    "\n",
    "    rep.append(aux1[0])\n",
    "    ext.append(aux2[0])\n",
    "    \n",
    "rep"
   ]
  },
  {
   "cell_type": "code",
   "execution_count": null,
   "metadata": {},
   "outputs": [],
   "source": []
  },
  {
   "cell_type": "code",
   "execution_count": 176,
   "metadata": {},
   "outputs": [],
   "source": []
  },
  {
   "cell_type": "code",
   "execution_count": null,
   "metadata": {},
   "outputs": [],
   "source": []
  },
  {
   "cell_type": "code",
   "execution_count": null,
   "metadata": {},
   "outputs": [],
   "source": []
  }
 ],
 "metadata": {
  "kernelspec": {
   "display_name": "Python 3",
   "language": "python",
   "name": "python3"
  },
  "language_info": {
   "codemirror_mode": {
    "name": "ipython",
    "version": 3
   },
   "file_extension": ".py",
   "mimetype": "text/x-python",
   "name": "python",
   "nbconvert_exporter": "python",
   "pygments_lexer": "ipython3",
   "version": "3.8.6"
  }
 },
 "nbformat": 4,
 "nbformat_minor": 4
}
