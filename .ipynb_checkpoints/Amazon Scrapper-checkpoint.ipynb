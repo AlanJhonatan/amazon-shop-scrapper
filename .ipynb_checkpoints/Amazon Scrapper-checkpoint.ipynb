{
 "cells": [
  {
   "cell_type": "code",
   "execution_count": 1,
   "metadata": {},
   "outputs": [],
   "source": [
    "from requests import Request, Session\n",
    "from bs4 import BeautifulSoup\n",
    "import numpy\n",
    "import pandas as pd"
   ]
  },
  {
   "cell_type": "code",
   "execution_count": 2,
   "metadata": {},
   "outputs": [],
   "source": [
    "#set the search term here\n",
    "search_term = 'iphone'"
   ]
  },
  {
   "cell_type": "code",
   "execution_count": 3,
   "metadata": {},
   "outputs": [],
   "source": [
    "page = 1\n",
    "page_limit = 0\n",
    "soups = []"
   ]
  },
  {
   "cell_type": "code",
   "execution_count": 4,
   "metadata": {
    "scrolled": true
   },
   "outputs": [],
   "source": [
    "def urlfier(url):\n",
    "    return ''.join(url)\n",
    "\n",
    "def extractText(info):\n",
    "    return BeautifulSoup(str(info), \"html.parser\").find(text=True)"
   ]
  },
  {
   "cell_type": "code",
   "execution_count": 5,
   "metadata": {},
   "outputs": [
    {
     "data": {
      "text/plain": [
       "{'User-Agent': 'Mozilla/5.0 (Windows NT 10.0; Win64; x64) AppleWebKit/537.36 (KHTML, like Gecko) Chrome/87.0.4280.88 Safari/537.36',\n",
       " 'authority': 'www.amazon.com.br',\n",
       " 'scheme': 'https',\n",
       " 'origin': 'https://www.amazon.com.br',\n",
       " 'accept': 'text/html,*/*',\n",
       " 'accept-language': 'en-US,en;q=0.9,ja-JP;q=0.8,ja;q=0.7,pt-BR;q=0.6,pt;q=0.5',\n",
       " 'content-type': 'application/json',\n",
       " 'downlink': '50',\n",
       " 'ect': '4g',\n",
       " 'rtt': '100',\n",
       " 'sec-ch-ua': '\"Google Chrome\";v=\"87\", \" Not;A Brand\";v=\"99\", \"Chromium\";v=\"87\"',\n",
       " 'sec-ch-ua-mobile': '?0',\n",
       " 'sec-fetch-dest': 'empty',\n",
       " 'sec-fetch-mode': 'cors',\n",
       " 'sec-fetch-site': 'same-origin',\n",
       " 'x-amazon-rush-fingerprints': 'AmazonRushAssetLoader:82DC4FCDBC1BD29C851447C5E56300ACEBC3484E|AmazonRushFramework:C63458EFD5C6F3B9DB4C55251BDF45CAB84ACA9E|AmazonRushRouter:C88B480F313C8089B887E17289DB6E9437386461|SearchAssets:68AEE251205924E94A40052B6F4BBA8540827F9F|DynamicImageLoader:72044AC19F5D25484C3A6A210715639EB294450A|SearchPartnerAssets:C3828FDE58240400D60660B659C2BB69C3AF2C8C',\n",
       " 'x-amazon-s-fallback-url': '',\n",
       " 'x-amazon-s-mismatch-behavior': 'ALLOW',\n",
       " 'x-amazon-s-swrs-version': '0265482AAA9506275F3AC0E0B1B2250D',\n",
       " 'x-requested-with': 'XMLHttpRequest'}"
      ]
     },
     "execution_count": 5,
     "metadata": {},
     "output_type": "execute_result"
    }
   ],
   "source": [
    "# Headers Setup\n",
    "headers = {    \n",
    "    #setting as default browser.\n",
    "    \"User-Agent\": \"Mozilla/5.0 (Windows NT 10.0; Win64; x64) AppleWebKit/537.36 (KHTML, like Gecko) Chrome/87.0.4280.88 Safari/537.36\",\n",
    "    \n",
    "    #some configs i thought was important (i don't know yet)\n",
    "    \"authority\": \"www.amazon.com.br\",\n",
    "    \"scheme\": \"https\",\n",
    "    \"origin\": \"https://www.amazon.com.br\",\n",
    "    \n",
    "    \"accept\": \"text/html,*/*\",\n",
    "    \"accept-language\": \"en-US,en;q=0.9,ja-JP;q=0.8,ja;q=0.7,pt-BR;q=0.6,pt;q=0.5\",\n",
    "    \"content-type\": \"application/json\",\n",
    "    \"downlink\": \"50\",\n",
    "    \"ect\": \"4g\",\n",
    "    \"rtt\": \"100\",\n",
    "    \"sec-ch-ua\": \"\\\"Google Chrome\\\";v=\\\"87\\\", \\\" Not;A Brand\\\";v=\\\"99\\\", \\\"Chromium\\\";v=\\\"87\\\"\",\n",
    "    \"sec-ch-ua-mobile\": \"?0\",\n",
    "    \"sec-fetch-dest\": \"empty\",\n",
    "    \"sec-fetch-mode\": \"cors\",\n",
    "    \"sec-fetch-site\": \"same-origin\",\n",
    "    \"x-amazon-rush-fingerprints\": \"AmazonRushAssetLoader:82DC4FCDBC1BD29C851447C5E56300ACEBC3484E|AmazonRushFramework:C63458EFD5C6F3B9DB4C55251BDF45CAB84ACA9E|AmazonRushRouter:C88B480F313C8089B887E17289DB6E9437386461|SearchAssets:68AEE251205924E94A40052B6F4BBA8540827F9F|DynamicImageLoader:72044AC19F5D25484C3A6A210715639EB294450A|SearchPartnerAssets:C3828FDE58240400D60660B659C2BB69C3AF2C8C\",\n",
    "    \"x-amazon-s-fallback-url\": \"\",\n",
    "    \"x-amazon-s-mismatch-behavior\": \"ALLOW\",\n",
    "    \"x-amazon-s-swrs-version\": \"0265482AAA9506275F3AC0E0B1B2250D\",\n",
    "    \"x-requested-with\": \"XMLHttpRequest\"\n",
    "}\n",
    "\n",
    "headers"
   ]
  },
  {
   "cell_type": "code",
   "execution_count": 6,
   "metadata": {},
   "outputs": [
    {
     "data": {
      "text/plain": [
       "('https://www.amazon.com.br/s?k=iphone&page=1',\n",
       " 'https://www.amazon.com.br/s?k=iphone&page=1')"
      ]
     },
     "execution_count": 6,
     "metadata": {},
     "output_type": "execute_result"
    }
   ],
   "source": [
    "URL = ['https://www.amazon.com.br/s?k=', search_term,'&page=', str(page)]\n",
    "prepped = Request('GET',\n",
    "                  urlfier(URL),\n",
    "                  headers=headers,\n",
    "                  #params=payload\n",
    "                 ).prepare()\n",
    "prepped.url, urlfier(URL)"
   ]
  },
  {
   "cell_type": "code",
   "execution_count": 7,
   "metadata": {},
   "outputs": [
    {
     "data": {
      "text/plain": [
       "(<Response [200]>, 1)"
      ]
     },
     "execution_count": 7,
     "metadata": {},
     "output_type": "execute_result"
    }
   ],
   "source": [
    "s = Session() # Session Setup\n",
    "resp = s.send(prepped) #request\n",
    "\n",
    "soups.append(BeautifulSoup(resp.content, 'html.parser')) #appending first request to \"soups list\"\n",
    "\n",
    "resp, len(soups)"
   ]
  },
  {
   "cell_type": "code",
   "execution_count": 8,
   "metadata": {},
   "outputs": [
    {
     "data": {
      "text/plain": [
       "'7'"
      ]
     },
     "execution_count": 8,
     "metadata": {},
     "output_type": "execute_result"
    }
   ],
   "source": [
    "#getting how much pages has the search\n",
    "aux = soups[0].select('ul.a-pagination li[aria-disabled=true]')\n",
    "if len(aux) == 0:\n",
    "    page_limit = 0\n",
    "else:\n",
    "    page_limit = aux[0].get_text()\n",
    "\n",
    "page_limit"
   ]
  },
  {
   "cell_type": "code",
   "execution_count": 9,
   "metadata": {},
   "outputs": [
    {
     "name": "stdout",
     "output_type": "stream",
     "text": [
      "Requesting page 2\n",
      "Requesting page 3\n",
      "Requesting page 4\n",
      "Requesting page 5\n",
      "Requesting page 6\n",
      "Requesting page 7\n"
     ]
    },
    {
     "data": {
      "text/plain": [
       "('total ', 7)"
      ]
     },
     "execution_count": 9,
     "metadata": {},
     "output_type": "execute_result"
    }
   ],
   "source": [
    "if int(page_limit) != 0:\n",
    "    i = 2\n",
    "    while i <= int(page_limit):\n",
    "        resp = None\n",
    "        \n",
    "        URL[3] = str(i)\n",
    "        prepped.url = urlfier(URL)\n",
    "        \n",
    "        resp = s.send(prepped)\n",
    "        soups.append(BeautifulSoup(resp.content, 'html.parser'))\n",
    "        \n",
    "        print(f'Requesting page {len(soups)}')\n",
    "        \n",
    "        i = i + 1\n",
    "\n",
    "print(f'finished with {len(soups)} requests.')"
   ]
  },
  {
   "cell_type": "code",
   "execution_count": 11,
   "metadata": {},
   "outputs": [
    {
     "name": "stdout",
     "output_type": "stream",
     "text": [
      "306 products found.\n"
     ]
    }
   ],
   "source": [
    "#get all products of all pages\n",
    "products = []\n",
    "for page in soups:\n",
    "    products += page.select('div [data-index][data-uuid]')\n",
    "\n",
    "print(f'{len(products)} products found.')"
   ]
  },
  {
   "cell_type": "code",
   "execution_count": 24,
   "metadata": {
    "scrolled": false
   },
   "outputs": [
    {
     "data": {
      "text/plain": [
       "(306, 306)"
      ]
     },
     "execution_count": 24,
     "metadata": {},
     "output_type": "execute_result"
    }
   ],
   "source": [
    "rep = []\n",
    "ext = []\n",
    "\n",
    "#extract all products infos\n",
    "for item in products:\n",
    "    aux1 = []\n",
    "    aux2 = []\n",
    "    \n",
    "    #get name of product\n",
    "    name = ''\n",
    "    name = extractText(item.select('h2 span')[0])\n",
    "  \n",
    "    #get product price\n",
    "    price = item.select('span.a-offscreen')\n",
    "\n",
    "    #get stock of product\n",
    "    stock = item.select('div span[aria-label=\"Não disponível.\"] span[dir]')\n",
    "\n",
    "    if len(price) == 0:\n",
    "        if len(stock) == 0:\n",
    "            price = 'Preço à tratar com vendedores.'\n",
    "        else:\n",
    "            price = 'Sem Estoque.'\n",
    "    else:\n",
    "        price = extractText(price[0])\n",
    "\n",
    "    aux1.append([name, price]) #appending info into (auxiliary var) \n",
    "\n",
    "    stars = item.select('span.a-icon-alt') #get stars of product\n",
    "    if len(stars) == 0:\n",
    "        stars = 'Sem avaliação'\n",
    "    else:\n",
    "        stars = extractText(stars[0])\n",
    "\n",
    "    rates = item.select('span[aria-label] a span.a-size-base') #rates in a product\n",
    "    if len(rates) == 0:\n",
    "        rates = 'Sem avaliação'\n",
    "    else:\n",
    "        rates = extractText(rates[0])\n",
    "\n",
    "    #link of an product\n",
    "    link = 'https://www.amazon.com.br' + item.select('h2 a')[0].get('href')\n",
    "\n",
    "    #appending info into (auxiliary var)\n",
    "    aux2.append([link, stars, rates])\n",
    "\n",
    "    rep.append(aux1[0])\n",
    "    ext.append(aux2[0])\n",
    "    \n",
    "len(rep), len(ext)"
   ]
  },
  {
   "cell_type": "code",
   "execution_count": 28,
   "metadata": {},
   "outputs": [
    {
     "data": {
      "text/plain": [
       "['Cabo Lightning Certificado Apple MFi, Anker Powerline II, 1.8 metros, 12x mais resistente, Preto',\n",
       " 'R$89,90']"
      ]
     },
     "execution_count": 28,
     "metadata": {},
     "output_type": "execute_result"
    }
   ],
   "source": [
    "rep[15]"
   ]
  },
  {
   "cell_type": "code",
   "execution_count": 29,
   "metadata": {},
   "outputs": [
    {
     "name": "stdout",
     "output_type": "stream",
     "text": [
      "                                                                                                                                                                                                                                                       0                               1\n",
      "0                                                                                                                                                                                                   Iphone Xr Apple Preto, 64gb Desbloqueado - Mry42br/a  Preço à tratar com vendedores.\n",
      "1                                                                                                                                                                                                               Novo Iphone Xr 64Gb Branco Ios 12 4G ...  Preço à tratar com vendedores.\n",
      "2                                                                                                                                                                                                 Iphone Xr Apple Branco, 128gb Desbloqueado - Mryd2br/a  Preço à tratar com vendedores.\n",
      "3                                                                                                                                                                                      Xiaomi Redmi Note 9 128GB 4GB RAM - Versão Global - Midnight Grey                      R$1.680,00\n",
      "4                                                                                                                                                                                                        iPhone 11 64GB Preto iOS 4G Câmera 12MP - Apple  Preço à tratar com vendedores.\n",
      "5                                                                                                                                                                                                                           Iphone Xs 64Gb Prata (Prata)                      R$5.547,81\n",
      "6                                                                                                                                                                                     Iphone 8 Plus Apple Cinza Espacial, 128gb Desbloqueado - Mx242br/a                      R$4.999,90\n",
      "7                                                                                                                                                                                                                       iPhone XS 64GB Dourado (Dourado)                      R$4.599,00\n",
      "8                                                                                                                                                                                                Iphone 11 128Gb Branco iOS 4G Wi-Fi Câmera 12Mp - Apple  Preço à tratar com vendedores.\n",
      "9                                                                                                                                                  Capa Impact Pro, GEONAV, iPhone 7, iPhone 8, Capa Anti-Impacto, Branco/Transparente, 70 x 140 x 10 mm                         R$58,36\n",
      "10                                                                                                                                                                                                                         iPhone 7 Plus 128GB Ouro Rosa  Preço à tratar com vendedores.\n",
      "11                                                                                                                                                                                                Smartphone Xiaomi Redmi Note 8 64gb Moonlight (Branco)                      R$1.550,00\n",
      "12                                                                                                      Película De Privacidade Vidro Temperado Para Apple iPhone 11 e Xr Tela 6.1\" Polegadas Proteção Anti Impacto E Curioso Top Spy Premium 3d - Danet                         R$49,99\n",
      "13                                                                                                                                                                                                               Redmi Note 9S Aurora Blue 6GB RAM 128GB                      R$1.915,00\n",
      "14                                                                                                                                                                                                       Redmi Note 9S 128gb 6gb RAM - Interstellar grey                      R$1.889,99\n",
      "15                                                                                                                                                      Cabo Lightning Certificado Apple MFi, Anker Powerline II, 1.8 metros, 12x mais resistente, Preto                         R$89,90\n",
      "16                                                                                                                                                                                                                    iPhone 6s Plus 32GB Cinza Espacial  Preço à tratar com vendedores.\n",
      "17                                                                                                    Capa Protetora Para Iphone 12 e 12 Pro com Tela de 6.1\" Polegadas Capinha Case Transparente Air Anti Impacto Proteção De Silicone Flexível - Danet                         R$44,99\n",
      "18                                                                                                                                                                                  iPhone 8 Apple Dourado com Tela de 4,7\", 4G, 64 GB e Câmera de 12 MP                      R$4.499,90\n",
      "19                                                                                                                                                                                                                           Iphone 11 Apple Verde, 64gb  Preço à tratar com vendedores.\n",
      "20                                                                                                                                                                                             Celular Apple iPhone 11 64gb / Tela 6.1'' / 12MP / iOS 13                      R$5.499,99\n",
      "21                                                                                                                                                                                     Smartphone, Apple, iPhone 7 MN912BR/A, 32 GB, 4.7'', Rosa/Dourado                      R$2.590,34\n",
      "22                                                                                                                                                  Capa Protetora, Shield Preta com Pelicula, Iphone 7/8 Plus, Laut, Capa Protetora para Celular, Preta                         R$99,00\n",
      "23                                                                                                                                                                                                 Iphone 11 Apple Preto, 128gb Desbloqueado - Mwm02bz/a                      R$5.999,90\n",
      "24                                                                                                                                                                                                                          Iphone 11 Apple Preto, 256gb  Preço à tratar com vendedores.\n",
      "25                                                                                                                                                                                                 Iphone Se Apple Preto, 128gb Desbloqueado - Mxd02bz/a                      R$4.219,00\n",
      "26                                                                                                                                                                                            Celular Apple iPhone 11 128gb / Tela 6.1'' / 12MP / iOS 13                      R$5.999,90\n",
      "27                                                                                                                                                                                         Celular Apple iPhone 11 Pro 64gb / Tela 5.8'' / 12MP / iOS 13                      R$8.725,99\n",
      "28                                                                                                                                                                                           Iphone 11 Pro Apple Dourado, 512gb Desbloqueado - Mwcf2bz/a                      R$9.279,00\n",
      "29                                                                                                                          iPhone XR Apple Preto 64GB, Tela Retina LCD de 6,1”, iOS 12, Câmera Traseira 12MP, Resistente à Água e Reconhecimento Facial  Preço à tratar com vendedores.\n",
      "30                                                                                                                                                                                                   Apple Iphone 12 (128GB Preto) - Desbloqueado Anatel                      R$7.499,90\n",
      "31                                                                                                                                                                                                                          iPhone 8 64GB Cinza Espacial                      R$4.599,90\n",
      "32                                                                                                                                         Capa Case Compatível Apple iPhone 11 (6.1 Pol.) Silicone (Aveludado) (Microfibra) Box Lacrada (Midnight Blue)                         R$39,90\n",
      "33                                                                                                                                                                                                            iPhone 11 Pro Max 64 GB Tela 6.5 Polegadas                      R$7.999,90\n",
      "34                                                                                                                     Película De Vidro Temperado Para Lente da Camera Iphone 12 e 12 Pro - Proteção Da Lente Blindada Anti Impacto Top Premium - Danet                         R$27,99\n",
      "35                                                                                                                                                                                                iPhone SE 64GB Black Novo Desbloqueado Tela 4,7\" Apple                      R$3.999,98\n",
      "36                                                                                                                                                                               Iphone 11 Pro Max Apple Verde meia-noite, 64gb Desbloqueado - Mwhh2bz/a                      R$7.869,00\n",
      "37                                                                                                                                                                 iPhone 7 32GB Preto Matte 4G Tela 4.7  Retina - Cam. 12MP + Selfie 7MP iOS 11 - Apple                      R$2.499,90\n",
      "38                                                                                                                                                           Smartphone LG K8 Plus Platinum 16GB 1.5 GHz de RAM Tela 5\" Dual Chip Câmera Traseira de 8MP                        R$649,00\n",
      "39                                                                             Super Power Carregamento Ultrarrápido para iPhone*, Carregador de tomada 18W USB-C, acompanha Cabo USB-C com conector original MFi Lightning nylon trançado 1.5MT, Geonav                        R$145,00\n",
      "40                                                                                             Película de Gel Silicone Flexível Para o VERSO Iphone 11 com Tela de 6.1 Polegadas - Proteção Que Adere E Cobre Toda A Parte Traseira do Aparelho - Danet                         R$29,99\n",
      "41                                                                                                                                                      Iphone Xr Apple 64Gb Product Red 4G 6,1 Retina, Cã¢Mera 12Mp + Selfie 7Mp Ios 12 A12 Bionic Chip                      R$4.815,53\n",
      "42                                                                                                                                                                                                                           iPhone 7 Plus 128GB Dourado  Preço à tratar com vendedores.\n",
      "43                                                                                                                                                                                                                 Novo Apple iPhone 12 (128 GB, Branco)                      R$7.599,99\n",
      "44                                                                             iPhone Se 2020 User Guide: A Complete Step By Step User Manual For Beginner And Senior To Learn How To Use The Iphone Se 2020 With Tips, Shortcuts And Actual Screenshots                         R$81,13\n",
      "45                                                                                                                                                        Cabo Lightning Certificado Apple MFi, Anker Powerline+, 3 metros, 6x mais resistente, Vermelho                        R$129,90\n",
      "46                                                     kit 3 em 1 veicular para iPhone, composto de 1 cabo para iPhone, iPad, iPod lightning conector original Mfi Apple 1MT, carregador veicular 2 portas USB, suporte veicular, Branco, LIGH31, Geonav                         R$39,00\n",
      "47                                                                                                                                                                      Capa iPhone 11 Spigen Ultra Hybrid Matte Black, Spigen, Capa Anti-Impacto, Preto                        R$219,00\n",
      "48                                                                                                                                                                                                              Novo Apple iPhone 12 Mini (64 GB, Preto)                      R$6.899,00\n",
      "49                                                                                                                                                                                            Capa iPhone SE 2020 WB Liberty Anti Queda Apoio Horizontal                         R$69,90\n",
      "50                                                                                                                                                                      iPhone 8 Plus Apple 64GB Vermelho Tela Retina HD 5,5 IOS 11 4G e Camera de 12 MP  Preço à tratar com vendedores.\n",
      "51                                                                                                                                                                              Capa iPhone XR Spigen Liquid Air Black, Spigen, Capa Anti-Impacto, Preto                        R$209,00\n",
      "52                                                                                                                                                                                                                    Apple Iphone X 64GB Cinza Espacial  Preço à tratar com vendedores.\n",
      "53                                                                                                                                                                                                Iphone Se Apple Branco, 256gb Desbloqueado - Mxvu2bz/a                      R$5.008,20\n",
      "54                                                                                                                                                                                                                          iPhone 8 Plus 256GB Prateado                      R$5.299,90\n",
      "55                                                                                                                                                                  Capa iPhone 11 Pro Spigen Ultra Hybrid Matte Black, Spigen, Capa Anti-Impacto, Preto                        R$144,50\n",
      "56                                                       Capa Abbery compatível com iPhone SE 2020, compatível com iPhone 7/8, flor de borboleta roxa, luz Blu-Ray com design diamante luxuoso, capa de telefone TPU de silicone para mulheres e meninas                    Sem Estoque.\n",
      "57                                                                                                                                                                               2 Películas De Vidro Temperado Original Spigen para iPhone XR/iPhone 11                        R$199,90\n",
      "58                                                                                                                                                                           Capa Capinha iPhone 12/12 Pro (6.1) Esr Echo Vidro Temperado (Transparente)                        R$124,99\n",
      "59                                                                                                                                                                                       Capa Basic para iPhone 7, Privilege, PRIVCBIP7CLR, Transparente                         R$19,00\n",
      "60                                                                                    IPhone 12 User Guide: The Complete Well Illustrated Manual For Beginners And Seniors To Master The New IPhone 12 With Tips And Tricks For IOS 14 (English Edition)                          R$0,00\n",
      "61                                                                                                                                           Carregador de Tomada 1 USB-C PD + 1 USB, Anker PowerPort PD 2, 33W de potência, Carregamento Rápido, Branco                        R$169,00\n",
      "62                                                                                                                                                         Capa iPhone XS Max Spigen Ultra Hybrid Crystal Clear, Spigen, Capa Anti-Impacto, Transparente                        R$149,00\n",
      "63                                                                              Clayco Forza Series Case for iPhone 12 Pro Max 6.7 inch (2020 Release), Full-Body Rugged Cover with Built-in Screen Protector Compatible with Fingerprint Reader (Black)                        R$159,99\n",
      "64                                                                                                                                      Pelicula Hprime invisivel para Apple iPhone 6/ 6S, Hprime, Película Protetora de Tela para Celular, Transparente                         R$19,90\n",
      "65                                                                                                                                                                                                          Cabo Lightning 8 Pinos, Elg, INX810GY, Cinza                         R$59,00\n",
      "66                                                                                                                                        Pelicula Hprime invisivel para Apple iPhone 7/8, Hprime, Película Protetora de Tela para Celular, Transparente                         R$19,90\n",
      "67                                                                                                                                                Cabo Lightning Certificado Apple MFi, Anker Powerline+, 1.8 metros, 6x mais resistente, Cinza Espacial                        R$105,90\n",
      "68                                                                                                                                                                                                          Microfone Digital Estéreo Motiv MV88 - Shure  Preço à tratar com vendedores.\n",
      "69                                                                                                                                                                                                      Cabo Lightning para USB-A, Energy2u, 20cm, Preto                         R$18,45\n",
      "70                                                                                                                                                                                                          Capa Iphone 11 Pro Max Apple, Silicone Preto                        R$355,98\n",
      "71                                                                                                                                  COMBO 2 EM 1 - CABO APPLE LIGHTNING 1M + 2M - RECARGA/SINCRONIZAÇÃO - BRANCO - CMB812WH - ELG, Elg, CMB812WH, Branco                         R$49,00\n",
      "72                                                                                                           Kit Capa E Película Para iPhone 11 Tela De 6.1Polegadas Capinha Case Transparente Air Anti Impacto e Película De Vidro Temperado 3d - Danet                         R$49,99\n",
      "73                                                                                                                                                                        Geonav Impact Pro X - Capa Anti-Impacto, Branco/Transparente, 79 x 148 x 10 mm                         R$80,80\n",
      "74                                                                                                                                                                   Capa Ant iShock Reforçada iPhone SE 2020 + 2x Películas de Vidro 3D + Kit Aplicação                         R$35,70\n",
      "75                                                                                                                    Capa Protetora Para iPhone 11 Tela 6.1\" Polegadas Capinha Case Transparente Air Anti Impacto Proteção De Silicone Flexível - Danet                         R$34,99\n",
      "76                                                                                                                                                                                                                  Novo Apple iPhone 12 (64 GB, Branco)                      R$7.199,99\n",
      "77                                                                                                                                                                                                       Cabo de Lightning para USB (2 m) Apple Original                        R$134,99\n",
      "78                                                                                                       Pelicula de Vidro temperado 9h HPrime para Apple iPhone Xs Max/iPhone 11 Pró Max, Hprime, Película Protetora de Tela para Celular, Transparente                         R$39,90\n",
      "79                                                                                                                                                                                                Multilaser AC306 Case Premium Para Iphone 6/6S, Branco                         R$20,65\n",
      "80                                                                                                                                                                          Capa iPhone 11 Pro Spigen Liquid Air Black, Spigen, Capa Anti-Impacto, Preto                        R$199,00\n",
      "81                                                                                                                                                                             Capa iPhone 11 Spigen Tough Armor Black, Spigen, Capa Anti-Impacto, Preto                        R$199,90\n",
      "82                                                                                                                                                                          Capa Poliuretano, Elfo, Iphone XR, Capa Protetora para Celular, Transparente                         R$18,83\n",
      "83                                                                                                                                                           Capa iPhone 11 Spigen Liquid Crystal Crystal Clear, Spigen, Capa Anti-Impacto, Transparente                        R$189,00\n",
      "84                                                                                                                                                                                          Iphone 8 Plus Apple Dourado, 256 Gb Desbloqueado - Mq8r2br/a                      R$5.399,90\n",
      "85                                                                                                                                                                                                                                       Despicable Me 2  Preço à tratar com vendedores.\n",
      "86                                                                                                                                                                                                    Smartphone Xiaomi Mi A3 64GB 4GB RAM Azul - Global                      R$1.499,00\n",
      "87                                                                                                                                                     Capa iPhone 11 Pro Max Spigen Ultra Hybrid Crystal Clear, Spigen, Capa Anti-Impacto, Transparente                        R$149,00\n",
      "88                                                                                                                             Pelicula Hprime invisivel para Apple iPhone 7 Plus/ 8 Plus, Hprime, Película Protetora de Tela para Celular, Transparente                         R$19,90\n",
      "89                                  Carregador sem fio, almofada de carregamento sem fio rápido, compatível com o Magsafe iPhone 12/12 Pro/12 Pro max/12 Mini,Samsung Galaxy S20/ Note 20, Google, LG, Airpods e outros dispositivos habilitados para Qi                        R$135,79\n",
      "90                                                                                                                                                                                                             Cabo Apple Lightning, ELG, CNV810PK, Rosa                         R$42,90\n",
      "91                                                                                                                                                                             Apple iPhone 11 Pro Max 512Gb - Cinza Espacial - MWH82LL/A - Desbloqueado  Preço à tratar com vendedores.\n",
      "92                                                                                                              Notebook Ultraportátil Dell Inspiron 13 7000, i13-7391-A10S, 10ª Geração Intel Core i5, 8GB, 256GB SSD, Full HD 13.3\", Windows 10, Prata                      R$6.871,94\n",
      "93                                                                                                                Película De Vidro Temperado 3D Full Cover Para iPhone 11 Com Tela De 6.1 - Proteção Blindada Top Premium Que Cobre Toda A Tela - Danet                         R$44,99\n",
      "94                                   Microfone Lightning duplo Lavalier para iOS iPhone 11 Vlog, 6 m BOYA BY-M2D microfone universal de lapela de cabeça dupla com adaptador de plugue Lightning para iPhone 11 10 X 8 7 Mac YouTube Video Facebook Live                        R$459,00\n",
      "95                                                                                                                                                                                                               Iphone 11 Pro - 256GB - Prata - Vitrine  Preço à tratar com vendedores.\n",
      "96                                                                                                                                                                                                               Iphone 11 Pro - 256GB - Prata - Vitrine  Preço à tratar com vendedores.\n",
      "97                                                                                                                                                                                     2 Películas De Vidro Temperado Original Spigen para iPhone Xs MAX                        R$159,00\n",
      "98                                                   Capa magnética para celular PITAKA para iPhone 11 de 6,1 polegadas, minimalista, MagEZ 100% fibra de aramida [material de armadura corporal] Capa durável com ajuste perfeito - preto/cinza (sarja)                        R$270,00\n",
      "99                                                                                                                                                                                                               Novo Apple iPhone 12 (128 GB, Vermelho)                      R$8.499,00\n",
      "100                                                                                                                                                                                               Película de Vidro 3D Para Iphone 11/XR - Virtual Multi                         R$29,45\n",
      "101                                                                                                                                                                                                               Fone de Ouvido Apple EarPods Lightning                        R$189,00\n",
      "102                                                                                                                                     Pelicula NanoShield para Apple iPhone X/XS/11 Pró, Hprime, Película Protetora de Tela para Celular, Transparente                         R$56,66\n",
      "103                                                                                                                                                                                                                              iPhone 7 128GB Prateado  Preço à tratar com vendedores.\n",
      "104                                                                                                                                       iPhone 6S, Apple, MN122BR/A, 32 GB, 4.7\", Rose/Dourado, Apple, IPHONE 6S MN122BR/A, 32 GB, 4.7'', Rose/Dourado  Preço à tratar com vendedores.\n",
      "105                                                                                                                                                                               Apple Iphone 4S 8GB,Single, 3G, IOS, Câm 8MP, Tela 3.5'', Wi Fi Branco  Preço à tratar com vendedores.\n",
      "106                                                                                                                                                                                          IPHONE 11 BRANCO, TELA DE 6,1\", 4G, 64 GB E CÂMERA DE 12 MP  Preço à tratar com vendedores.\n",
      "107                                        Capa FYY para iPhone 12 Pro Max 5G 6,7 polegadas [couro de vaca de luxo genuíno] [bloqueio de RFID] Capa carteira com [função de suporte] e [compartimentos para cartão] para iPhone 12 Pro Max 5G 6,7\" Preto                        R$179,99\n",
      "108                                                                                                       Capa Protetora Para Iphone 12 Mini com Tela de 5.4\" Polegadas Capinha Case Transparente Air Anti Impacto Proteção De Silicone Flexível - Danet                         R$39,99\n",
      "109                                                                                                                                                                       Capa iPhone 11 Pro Spigen Rugged Armor Black, Spigen, Capa Anti-Impacto, Preto                        R$159,90\n",
      "110                                                                                                                                                                                                    iPhone XS Max: Metallic Shell - DIP1511GD DOURADA                         R$69,00\n",
      "111                                                                                                                                     Cabo iPhone, iPad, iPod Lightning conector original Mfi Apple, nylon trançado, 1MT, Cinza Escuro, ESLISG, Geonav                         R$56,90\n",
      "112                                                                                                                                                                                                  Cabo Apple USB Lightning p/iPad/iPhone 2M MD819BZ/A                        R$134,90\n",
      "113                                                                                                                        CABO PARA IPHONE ORIGINAL COM CERTIFICADO MFI USBA 2.0 PARA LIGHTNING COM CERTIFICADO MFI ORIGINAL 2 METROS BRANCO - PUALB-02                         R$69,90\n",
      "114                                                                        Capa compatível para iPhone 12 Pro Max 6,5 polegadas, Babemall premium retrô elegante padrão floral Blu-Ray capa protetora de quatro cantos com suporte - linda flor/vermelha                    Sem Estoque.\n",
      "115                                                                                                                                                                                                                 Cabo Usb Lightning 2m Original Apple                        R$299,99\n",
      "116                                                                                                                                                                                         2 Películas De Vidro Temperado Original Spigen iPhone 11 Pro                        R$189,90\n",
      "117                                                                                                                                                                 Capa iPhone 11 Pro Max Spigen Neo Hybrid Jet Black, Spigen, Capa Anti-Impacto, Preto                        R$194,90\n",
      "118                                                                                                                                                                      Capa Transparente Air Anti Impacto iPhone 6 6g e 6s 4.7 Antichoque TPU Silicone                         R$33,00\n",
      "119                                                                                                                                                                                      Adaptador iPhone Aux P2 / Lightning Fone Ouvido Qualidade Favix                         R$39,00\n",
      "120                                                                                                                                                                                                           Cabo de Lightning para USB 1 Metro - Apple                         R$99,50\n",
      "121                                                   Pelicula de vidro premium para iPhone 7/8/SE 2a. geração, transparente, proteção de superfície oleofóbica e hidrofóbica, alta transparência, resistente a riscos e pequenas quedas, GLIP7T, Geonav                         R$29,00\n",
      "122                                                           ESR Premium Couro real projetado para iPhone 12 pro max Case [Slim Full Leather] [Suporta carregamento sem fio] [Scratch-Resistant] Case protetora para iPhone 12 pro max polegadas - azul                        R$145,99\n",
      "123                                                                                                                                                                         Capa Poliuretano, Elfo, Iphone XR, Capa Protetora para Celular, Transparente                         R$19,10\n",
      "124                                                                                                                                                                 Capa protetora iPhone XR, TPU flexível nas extremidades, Transparente, CLIXR, Geonav                         R$49,00\n",
      "125                                                                                                                                                                   iPhone Photography Adventures for Kids: Learning through Outings (English Edition)                         R$24,99\n",
      "126                                                                                                                                                                                                Kit Cabo Lightning + Carregador Emborrachado KT810WCH                         R$79,90\n",
      "127                                                                                                                                                                   carregador para iphone 5 6 7 8 8 plus x xr xs 11 xs max carga turbo rapida potente                         R$49,80\n",
      "128                                                                                                                                                                         Capa Anti Shock Reforçada iPhone SE 2020 + Película Vidro 3D + Kit Aplicação                         R$31,50\n",
      "129                                                                                                                                                                                    Película iPhone 12/12 Pro (6.1) Kingshield Vidro (2xUnid) - Fosca                         R$79,99\n",
      "130                                                                                                                                                                                           Iphone 12 mini Apple Verde, 256gb Desbloqueado - Mgee3bz/a                      R$8.192,86\n",
      "131                                                                                                                                                                                      Cabo de Lightning para USB Apple iPhone iPad charger - ORIGINAL                         R$99,00\n",
      "132                                                                                                                                                                             Adaptador Duplo Iphone 7 8 Plus XS-MAX Fone + Carrega Lightning vermelho                         R$28,00\n",
      "133                                                                                                           Capa Capinha Anti Impacto Para Iphone 12 Pro Max com Tela de 6.7\" polegadas - Case Com Desenho Fibra De Carbono Shock Queda - Danet (Azul)                         R$59,99\n",
      "134                                                                                                                                         Carregador Usb Apple Original iPhone X / XS / XR / MAX / 8 / 7 / 6s / SE / 5 / iPad / iPod - A1400 4R6266125                         R$85,00\n",
      "135                                                                                                                                                                   Caneta Pencil WB Para Apple iPad com Palm Rejection e Ponta de Alta Precisão 1.0mm                        R$250,30\n",
      "136                                                                                                                                                                                                                                         From Fathoms                        R$127,09\n",
      "137                                                                                                                                                                                                                                Carregador Xioami 10w                        R$125,00\n",
      "138                                                                                                                                                                           Película iPhone 12/12 Pro (6.1) Kingshield Hydrogel Cobertura Total - Tela                         R$48,99\n",
      "139                                                                                                                  The Ridiculously Simple Guide to iPhone 12 Mini: A Practical Guide to Getting Started With the Next Generation of iPhone and iOS 14                        R$128,06\n",
      "140                                                                                                                                                                                                                              iPhone SE 32GB Prateado  Preço à tratar com vendedores.\n",
      "141                                                                                                      Carregador por Indução de mesa 10W, vidro, carregamento rápido, compatível com aparelhos Android e iPhones com padrão Qi, QI10WG, Geonav, Preto                        R$113,06\n",
      "142                       Adaptador Iphone Lightning 2 Em 1 adaptador lightning para iphone Com Função De Chamada Compatível Com IOS 10.3 IOS 11 E Posterior X Xs 10 Iphone 8 / 8Plus 7 / 7Plus Adaptador lightning iphone 7 Recarga e Aúdio Porta Dupla                         R$49,00\n",
      "143                                                                                                                                                                                                                                          Air Buddies  Preço à tratar com vendedores.\n",
      "144                                                                                                                                                                                                 Capa iPhone 12 / iPhone 12 Pro - Defender - OtterBox  Preço à tratar com vendedores.\n",
      "145                                                                                                                                                                                                             Cabo De Dados Multilaser Para Ios- WI255                         R$19,90\n",
      "146                                                                                                                                                                                              Case Original Spigen Rugged Armor Para iPhone Se (2020)                        R$175,90\n",
      "147                                                                                                                                                                               Capa Antishock E Impacto Proteção Total Para Iphone 7 de 4.7 Polegadas                         R$10,42\n",
      "148                                                                                                                                                                                                    Capa iPhone 8 Plus / 7 Plus - Defender - OtterBox  Preço à tratar com vendedores.\n",
      "149                                                                                                                                                                                    Iphone Se Apple (product) Vermelho, 64gb Desbloqueado - Mx9u2bz/a                      R$3.699,99\n",
      "150                                                                                                                                                                                 Capa Capinha iPhone 12 Pro Max (6.7) Esr Cloud Case Silicone (Preto)                        R$119,99\n",
      "151                                                                                                                                                               Capa elago Slim Fit 2 projetada para iPhone SE 2020 / iPhone 8 / iPhone 7, Jean Indigo                         R$65,03\n",
      "152                                                                                                                                                                                    Cabo Multilaser De Dados Lighting 8Pin Para Ios Ipod Ipad - WI256                         R$26,90\n",
      "153                                                                                                  Kit Capa E Película Para iPhone 11 Pro Max Tela De 6.5Polegadas Capinha Case Transparente Air Anti Impacto e Película De Vidro Temperado 3d - Danet                         R$44,99\n",
      "154                                                 Tripé de selfie com controle remoto sem fio Bluetooth, bastão de selfie extensível 3 em 1 com tripé para iPhone 11/11 Pro/11 Pro Max/X/XR/XS/XS MAX/8/8 Plus/7, Galaxy S10/S9 Plus/S8 Plus/Note 10/8  Preço à tratar com vendedores.\n",
      "155                                                                                        Capa i-Blason Ares para iPhone 12, iPhone 12 Pro 6.1 polegadas (versão 2020), capa resistente dupla camada transparente com protetor de tela integrado (Azul)                        R$170,00\n",
      "156                                                                                                               Capa protetora Impact Pro iPhone XR, TPU flexível nas extremidades e ajuda na absorção de impactos, Transparente/Preto, IPIXRB, Geonav                         R$84,18\n",
      "157                                                                                                                                                                           Película HD Para Lente da Câmera do Iphone 11 Vidro Temperado Transparente                         R$20,09\n",
      "158                                                                                                                                                                                              Case Original Spigen Tough Armor Xp Para iPhone XR 2019                        R$199,90\n",
      "159                                                                                                                                                                                                CAPA CASE CAPINHA SILICONE AVELUDADO IPHONE 11 BRANCA                         R$39,90\n",
      "160                                                                                                                                                                                             CAPA CASE CAPINHA SILICONE AVELUDADO IPHONE 7 VERDE AGUA                         R$39,90\n",
      "161                                              Capa FYY para iPhone 12 Mini 5G 5,4 polegadas [couro de vaca de luxo genuíno] [bloqueio de RFID] Capa carteira com [função de suporte] e [compartimentos para cartão] para iPhone 12 Mini 5G 5,4\" Preto                        R$167,99\n",
      "162                                                                                                                                                                                       Pelicula HPrime Vidro Temperado Apple iPhone 12 Pro Max 6.7\" -                         R$34,90\n",
      "163                                                                                                                                                                                                  CAPA CASE CAPINHA SILICONE AVELUDADO IPHONE 7 PRETO                         R$39,90\n",
      "164                           ESR Air Armor Projetado para iPhone 12/12 pro Case [Absorção de Choque] [Resistente a arranhões] [Proteção de Nível Militar] Policarbonato Rígido + Estrutura de Polímero Flexível para iPhone 2020 6.1 \"-azul Translúcido                         R$79,99\n",
      "165                                                                                                                                                                                               CAPA CASE CAPINHA SILICONE AVELUDADO IPHONE 7 VERMELHO                         R$39,90\n",
      "166                                                     Capa Shamo's compatível com iPhone 12 e iPhone 12 Pro, capas transparentes para iPhone 12/12 Pro à prova de choque com amortecedores de silicone TPU antiarranhões, transparente HD transparente                         R$79,99\n",
      "167                                                                                                                                        Capa para iPhone 7/8 Plus, Anker Karapax Breeze, Proteção Nível Militar, Suporta Carregamento Wireless, Preto                         R$99,00\n",
      "168                                                                                                                                                                                   Capa Capinha iPhone 12 Mini (5.4) Esr Echo Vidro Temperado (Preto)                        R$119,99\n",
      "169                                                                                                                                                                             Capa Poliuretano, Elfo, Iphone XR, Capa Protetora para Celular, Colorido                         R$19,10\n",
      "170                                                                                                                                                                                     Capa Protetora, Shield Preta com Pelicula, Iphone X, Laut, Preta                         R$65,70\n",
      "171                                                            ESR Premium Couro real projetado para iPhone 12/12 pro Case [Slim Full Leather] [Suporta carregamento sem fio] [Scratch-Resistant] Case protetora para iPhone 12/12 pro polegadas -branco                        R$145,99\n",
      "172                                                                                                                     Pelicula de Vidro Temperado 9h para Apple iPhone XR - Privacidade, HPrime, Película Protetora de Tela para Celular, Transparente                         R$22,50\n",
      "173                                                                                                                                                             Capa Anti Shock para Iphone Xr 6.1 Polegadas, Cell Case, Capa Anti-Impacto, Transparente                         R$22,90\n",
      "174                                                                                                                                                                                                                                          Air Buddies  Preço à tratar com vendedores.\n",
      "175                 Capa Case Supcase iPhone SE 2ª Geração 2020/ iPhone 7 / 8, SUPCASE Unicorn Beetle Royal capa projetada para iPhone SE 2ª geração (versão 2020) /iPhone 7/iPhone 8, capa robusta de corpo inteiro protetora de tela integrada (Brown)                        R$170,00\n",
      "176                                                                                                                                                                               Capa iPhone 11 Spigen Thin Fit Black, Spigen, Capa Anti-Impacto, Preto                        R$199,00\n",
      "177                                                                                                                                                                                               Cabo Carregador iPhone Todos Modelos Reforçado Premium  Preço à tratar com vendedores.\n",
      "178                                                                                                                                                                           Capa iPhone 11 Spigen Rugged Armor Black, Spigen, Capa Anti-Impacto, Preto                        R$219,00\n",
      "179                                                                                                                                             Pelicula NanoShield para Apple iPhone 7/8, HPrime, Película Protetora de Tela para Celular, Transparente                         R$50,70\n",
      "180                                                                                                                                                                                                                             IPhone 11 PRO - DIP863BL                        R$114,90\n",
      "181                                                                                                                              Capa Anti-Impacto Personalizada para Iphone 8 Plus - Espaço Segal - Husky, Husky, Capa Protetora para Celular, Colorido                         R$16,75\n",
      "182                                                                                                                                                                                                      22 ipod / iphone ready classic collection 2 DVD                    Sem Estoque.\n",
      "183                                                                                                                                      Carregador Portátil PowerBank Anker PowerCore 20.100mAh, 2 portas USB, Tecnologia de Carregamento Rápido, Preto                        R$279,00\n",
      "184                                                                                                                                                                   Capa à prova d'água Pelican Marine para Apple iPhone Xs Max Clear C43040-001A-CLBC                         R$83,50\n",
      "185                                                                                                                                                                               Película de Vidro para iPhone 7/8 Plus, Anker Karapax, Fácil Aplicação                         R$35,90\n",
      "186                                                                                                                                                             Capa Anti Shock para iPhone XS Max, Cell Case, CASXSMAX, Capa Anti-Impacto, Transparente                         R$15,99\n",
      "187                                                                                                                                                                                 Capa Poliuretano, Elfo, Iphone XR, Capa Protetora para Celular, Rosa                         R$19,10\n",
      "188                                                                                                                                                                           iPHONE SERIES (The expected manual for ALL iPHONE USERS) (English Edition)                          R$0,00\n",
      "189                                                                                                                                                                                                   Capinha, Capa Silicone Case iPhone XS Max Vermelho                         R$49,90\n",
      "190                                                                                                                                                   Capinha Tpu Borda Anti Impacto Transparente Silicone iPhone 11 Pro Max 6.5 Polegadas, Transparente                         R$24,99\n",
      "191                                                                                                                                                                                          iPhone For Dummies: Updated for iPhone 12 models and iOS 14                        R$159,74\n",
      "192                                                                                                                                                                               Celular Apple iPhone XR 64GB 4G iOS 12 Tela 6.1 - Câm. 12MP - Vermelho                      R$4.499,90\n",
      "193                                                                                                                                                                                          Carregador E Cabo iPhone 5 5s 5c 6s 6 7 Plus Apple Original  Preço à tratar com vendedores.\n",
      "194                                                                                                                                                  Capa iPhone 11 Pro Max Spigen Liquid Crystal Crystal Clear, Spigen, Capa Anti-Impacto, Transparente                        R$169,90\n",
      "195                                                                                                                                                                    Pendrive SanDisk Ixpand Mini para Iphone e Ipad USB 3.0, 32GB, SDIX40N-032G-GN6NN                        R$341,06\n",
      "196                                                                                                                                                                Película iPhone 12/12 Pro (6.1) Kingshield Hydrogel Cobertura Total (Tela & Traseira)                         R$84,99\n",
      "197                                                                                                              Capa protetora Impact Pro iPhone X/XS, TPU flexível nas extremidades e ajuda na absorção de impactos, Transparente/Preto, IPIXB, Geonav                         R$80,80\n",
      "198                                                                                                                                                          Kit Capa Case Anti Quedas Impactos iPhone 11 6.1\" + Película Vidro Temperado, Case-Friendly                         R$29,00\n",
      "199                                                                                                                                                                         Capa Poliuretano, Elfo, Iphone XR, Capa Protetora para Celular, Transparente                         R$19,10\n",
      "200                                                                                                                                                                                              Fone Ouvido Compativel Lightning iPhone 6 7 8 PLUS X XS                         R$35,68\n",
      "201                                                                                                                                                                                          iPhone For Dummies: Updated for iPhone 12 models and iOS 14                        R$159,74\n",
      "202                               ESR Capa Essential Zero para iPhone SE 2020, iPhone 8, iPhone 7, [TPU resistente ao amarelecimento] [Capa traseira espessa de 0,043 mm] [Cantos protetores de ar com absorção de choque] Capa de silicone-transparente                         R$39,99\n",
      "203                                                                                                                                                                                                                                             Iphonica                        R$154,00\n",
      "204                                                                                                                                                                                            Película iPhone 12 Pro Max (6.7) Kingshield Vidro - Fosca                         R$44,99\n",
      "205                                                                                                                                                                                                  CAPA CASE CAPINHA SILICONE AVELUDADO IPHONE 8 PRETO                         R$39,90\n",
      "206                                                                                                                                                                                   Capa para Iphone 7 Liquid, Spigen, Capa Anti-Impacto, Transparente                        R$219,00\n",
      "207                                                                                                 ESR Capa de metal para iPhone XR, suporte vertical e horizontal, proteção contra quedas reforçada, TPU flexível e macio para iPhone XR, transparente                         R$96,99\n",
      "208                                                                                                                                                                Spigen Capa de cristal líquido com glitter para iPhone 11 (2019) – Cristal de quartzo                        R$199,00\n",
      "209                                                                                                                                                                                 Iphone Se Apple (product) Vermelhotm, 128gb Desbloqueado - Mxd22bz/a                      R$4.044,87\n",
      "210                                                                                                               Pelicula de Vidro temperado 9h HPrime para Apple iPhone 6 Plus/ 6S Plus, Hprime, Película Protetora de Tela para Celular, Transparente                         R$14,03\n",
      "211                                                                                                     Capa BoxWave para Apple iPhone 12 Pro [Capa de vidro TrueView] Vidro temperado híbrido com dureza 9H para Apple iPhone 12 Pro, 12 - Transparente                        R$106,02\n",
      "212                                                                                                                                                                                Carregador de tomada PowerPort, 2 portas USB, Potência de 24W, Branco                         R$99,00\n",
      "213                                                                                                                     Película De Vidro Temperado Para Lente da Camera Iphone 12 Pro Max - Proteção Da Lente Blindada Anti Impacto Top Premium - Danet                         R$27,99\n",
      "214                                                                                                                                                                                                                     iphone 6 Prata Tela de 4.7, 16GB  Preço à tratar com vendedores.\n",
      "215                                                                                                                                      Pelicula Invisivel para Apple iPhone X/XS/11 Pro, HPrime, Película Protetora de Tela para Celular, Transparente                         R$19,90\n",
      "216                                                                                                                                                                                             CAPA CASE CAPINHA SILICONE AVELUDADO IPHONE 7 PLUS PRETO                         R$39,02\n",
      "217                                                                                                                                                                                               iPhone SE 64GB White Novo Desbloqueado Tela 4,7\" Apple                      R$3.649,90\n",
      "218                                                     ESR Tempered-Glass for iPhone 8/7/6s/6 Screen Protector, iPhone 4.7 Screen Protector, [2-Pack] [Easy Installation Frame] [Case-Friendly] Premium Screen Protector for iPhone 8/7/6s/6, 4.7-Inch.                         R$59,99\n",
      "219                  Adaptador Iphone p2 e carga lightning 2 Em 1 para iphone Com Função De Chamada Compatível Com IOS 10.3 IOS 11 E Posterior Iphone X Xs 11 Max 10 Iphone 8 / 8Plus 7 / 7Plus Adaptador lightning iphone 7 Recarga e Aúdio Porta Dupla                         R$35,00\n",
      "220                                     Capa de silicone elago para iPhone 11 Pro | Cor| - silicone líquido premium, borda elevada (proteção de tela e câmera), estrutura de 3 camadas, proteção total do corpo, parte inferior flexível, Midnight Green                         R$82,80\n",
      "221                                                                                                                   Capa Shamo's para iPhone 12 Pro Max 6.7\" (2020), capa de absorção de choque anti-arranhões transparente, TPU com cantos reforçados                         R$89,99\n",
      "222                                                                                                                                   Kit 2x Películas Vidro Transparente Câmera Lente iPhone 11, 11 Pro, 11 Pro Max + Kit Aplicação (iPhone 11 Pro Max)                         R$25,00\n",
      "223                                                                                                                                                              Capa para Iphone XR Ultra Hybrid Crystal Clear, Spigen, Capa Anti-Impacto, Transparente                        R$149,00\n",
      "224                                                                                                                                 ESR Clear iPhone 12 Mini Case, Silicone Slim Clear Soft TPU, Capa de Silicone Flexível para iPhone 5,4\"(2020), Clear                         R$59,99\n",
      "225                                                                                                                                                                            Película iPhone 11 (6.1) Kingshield Nano Hydrogel Cobertura Total da Tela                         R$48,99\n",
      "226                                                                                                                                 Pelicula de Vidro Temperado 9h para Apple iPhone X/XS, HPrime, Película Protetora de Tela para Celular, Transparente                         R$39,90\n",
      "227                                                                                                                                                                                                                              Supernatural - Season 6  Preço à tratar com vendedores.\n",
      "228                                                                                Shamo's compatível com protetor de tela para iPhone 12 Pro Max, película de vidro temperado para Apple iPhone 12 Pro Max 6.7\", pacote com 3 unidades HD Crystal Clear                         R$89,99\n",
      "229                                                                                                                                                                                    Capa Ngp Pure, Incipio, iPhone X, Capa Anti-Impacto, Transparente                         R$39,00\n",
      "230                                                                                                                                   Pelicula de Vidro Temperado 9h para Apple iPhone XR, HPrime, Película Protetora de Tela para Celular, Transparente                         R$39,90\n",
      "231                                                                                                             Capa Capinha Anti Impacto Para Iphone 12 Mini com Tela de 5.4\" polegadas - Case Com Desenho Fibra De Carbono Shock Queda - Danet (Preto)                         R$54,99\n",
      "232                                                                                                                                                  Carregador Sem Fio Wireless, Anker PowerWave+ Pad 10W, Cabo Micro USB e Carregador de Tomada QC 3.0                        R$229,99\n",
      "233                                                                                                          Capa Tpu Fosca Para Iphone 11 Pro Max com Tela de 6.5Polegadas - Capinha Case De Proteção Ultra Fina Slim Material Silicone Foscovv (Preto)                         R$54,99\n",
      "234                                                                                                                                      Cabo iPhone, iPad, iPod Lightning conector original Mfi Apple, nylon trançado, 1.5MT, Titanium, LIGH10T, Geonav                        R$100,00\n",
      "235                                                                                                                                                                                Husky Capa Personalizada para iPhone 7 Plus Bailarina Color, Colorido                         R$16,80\n",
      "236                                                                                                                     Pelicula de Vidro temperado 9h HPrime para Apple iPhone 5/ 5S/ SE, Hprime, Película Protetora de Tela para Celular, Transparente                         R$39,90\n",
      "237                                                                                                                                                                           Capa Slide para o iPhone 11 Com tampa protetora da lente da câmera (Preto)                         R$49,99\n",
      "238                                                                                                                                  Pelicula de Vidro Temperado 9h para Apple iPhone 7/8, HPrime, Película Protetora de Tela para Celular, Transparente                         R$39,90\n",
      "239                                                                                                                                                             Capinha Capa Anti Impactos Shock iPhone XR, Case com Bordas Reforçadas, Silicone Durável                          R$9,00\n",
      "240                                                                                                                                                             Capinha Capa Anti Impactos Shock iPhone XR, Case com Bordas Reforçadas, Silicone Durável                          R$9,00\n",
      "241                                                                                                                                                                                            Teach Yourself VISUALLY iPhone 12, 12 Pro, and 12 Pro Max                        R$133,50\n",
      "242                                                                                                                                                                                                           Capa iPhone 11 (6.1) - Commuter - Otterbox  Preço à tratar com vendedores.\n",
      "243                                                                                                                                                                         Capinha Silicone Antichoque e Película Vidro 3D Preta Iphone 12 Pro Tela 6.1                         R$27,99\n",
      "244                                                                                                                                                                                                                     ROG Phone II - 8GB 128GB , Black                      R$3.999,00\n",
      "245                                                                                                                                                                                                  How to create an iPhone app: a 10 steps video guide                    Sem Estoque.\n",
      "246                                                                                                                                                            Capa carteira HOOMIL para iPhone X/XS, [Classic Business Series] Capa de couro flip, azul  Preço à tratar com vendedores.\n",
      "247                                                                                                                                                                           iPHONE SERIES (The expected manual for ALL iPHONE USERS) (English Edition)                          R$0,00\n",
      "248                                                                                             StarTech.com Cabo USB para Lightning – Certificado Apple MFi – Cabo carregador para iPhone – Cabo Lightning certificado pela Apple, Branco, Branco, 10ft  Preço à tratar com vendedores.\n",
      "249                                                                                                                                                                                            Carregador 3 em 1 Sem Fio Turbo iPhone Apple Watch Airpod  Preço à tratar com vendedores.\n",
      "250                                 Capa de silicone elago para iPhone 11 Pro Max | Cor| - silicone líquido premium, borda elevada (proteção de tela e câmera), estrutura de 3 camadas, proteção total do corpo, parte inferior flexível, Midnight Green                         R$82,80\n",
      "251                                                                                                                                                                                              CAPA CASE CAPINHA SILICONE AVELUDADO IPHONE XR VERMELHO                         R$40,00\n",
      "252                                                                                                                                                                                   Capa para Iphone XR Ultra Hybrid, Spigen, Capa Anti-Impacto, Preto                        R$184,90\n",
      "253                                                                                                                                  Cabo iPhone, iPad, iPod Lightning conector original Mfi Apple, nylon trançado reforçado, 2MT, Cinza, LIGH08, Geonav                        R$114,92\n",
      "254                                                                                                                                                                       Película iPhone 12 Pro Max (6.7) Kingshield Hydrogel Cobertura Total (2x Tela)                         R$84,99\n",
      "255                          ESR Air Armor Projetado para iPhone 12 promax Case [Absorção de Choque] [Resistente a arranhões] [Proteção de Nível Militar] Policarbonato Rígido + Estrutura de Polímero Flexível para iPhone 2020 6.7 \"- azul Translúcido                         R$79,99\n",
      "256                   iPhone XR Waterproof Case Capa, Clayco Omni Underwater Case Shockproof Snowproof Dirtproof Capa à prova de sujeira à prova de neve à prova de choque com protetor de tela embutido para Apple iPhone XR 6,1 polegadas 2018 (Preto)                        R$129,99\n",
      "257                                                                                        Adaptador Lightning para HDMI, compatível com iPhone 11, 11 Pro, XS, XR, X, 8, 7, 6 para projetor de monitor de TV, cabo HDMI Video AV, suporta tela HD 1080P  Preço à tratar com vendedores.\n",
      "258                                                                                                                                                                                      Adaptador Duplo Iphone 7 8 Plus XS-MAX Fone + Carrega Lightning                         R$28,00\n",
      "259                                                               Capa Case Magnetica Imã Anti Impacto, com Stand e Suporte Anel e Rotação 360°, Carbon Fiber, TPU + PC Ultra Slim Suporte Magnético Automotivo, Cor: Preto/Transparente (iPhone 6 e 6s)  Preço à tratar com vendedores.\n",
      "260                                                                                                                                                                                               Capa Capinha iPhone 12 Pro Max (6.7) Pure Transparente                         R$59,99\n",
      "261                                                                                                                                                                                                                   Novo Apple iPhone 12 (64 GB, Azul)  Preço à tratar com vendedores.\n",
      "262                                                                                                                                                                                       Carregador Sem Fio 3 Em 1 para Iphone, Apple Iwatch, E Airpods                        R$149,00\n",
      "263                                                                                                          Capa protetora Impact Pro iPhone XS Max, TPU flexível nas extremidades e ajuda na absorção de impactos, Transparente/Branco, IPIXMW, Geonav                         R$80,80\n",
      "264                                                                                                                                                                                        Samsung EPP1100BBPGBR - Carregador Rápido Sem Fio Slim, Preto                        R$116,19\n",
      "265                                                                                                                                                                                                    Pelicula de Vidro 3D Para IPhone XR 6.1 Polegadas                         R$18,20\n",
      "266                                                                                                                                                                           Cabo Usb Carregador Rapido Kaidi Original Para Iphone 5 5S 6 6S Plus 7 8 X                         R$19,90\n",
      "267                                                                                              Capa Shamo's Compatível com iPhone 12 Pro Max Clear 6.7\" (2020), Capa de para-choque de silicone TPU macio transparente antiarranhões, HD Crystal Clear                         R$79,99\n",
      "268                                                                                                                                             Capa para Iphone Xs X X-Doria Defense Shield Rosê Original Anti Impacto Proteção Anti Queda Teste Milita                        R$156,87\n",
      "269                                                                                                                                                                    Carregador de parede universal 2.1A, 2 portas USB, bivolt, Branco, ESACW2, Geonav                         R$29,00\n",
      "270                                                                                                                                                                                       Cabo Lightning Flat para Iphone, 1.0M, Urbano, TG-UD0046, Rosa                         R$19,00\n",
      "271                                                                                                                                                                          Película de Vidro 3D, Cell Case, Smartphone Apple Iphone 8 Plus 5.5\", Preto                         R$33,15\n",
      "272                                              Capa SURITCH para iPhone se 2020/iPhone 7/8, [protetor de tela integrado] areia movediça brilhante líquido glitter TPU bumper capa de proteção total para iPhone se 2020/iPhone 8/7 4,7 polegadas prata                        R$125,99\n",
      "273  ESR iPhone 12 Case / 12 Pro Case, 6.1 Inch 2020 New Smartphone Case, 9H Dureza nas costas Tratamento + TPU Bumper, Thin Translucent Anti-Amarelecimento Shock-Absorption Compatível com Qi Charging para iPhone 12/12 pro Cover - azul transparente                         R$69,99\n",
      "274                                                                                                                                                                                                 Capinha, Capa Silicone Case iPhone 11 Pro Max Branco                         R$46,90\n",
      "275                                 Carregador sem fio, almofada de carregamento sem fio rápido, compatível com o Magsafe iPhone 12/12 Pro/12 Pro max/12 Mini,Samsung Galaxy S20/ Note 20, Google, LG, Airpods e outros dispositivos habilitados para Qi                         R$73,59\n",
      "276                                                                                                                                                                                                                                             22 Exito                        R$101,61\n",
      "277                                                                                               Capa protetora de almofada elago compatível com iPhone 12 Mini (2020) [azul marinho] – design de absorção de choque, suporte para carregamento sem fio                         R$76,87\n",
      "278                                                                                                                                                                                         Case para iPhone 11 - Couro Legítimo - Feito à Mão no Brasil                        R$140,00\n",
      "279                                                                                                                        Pelicula de Vidro Temperado 9h para Apple iPhone 7 Plus/8 Plus, HPrime, Película Protetora de Tela para Celular, Transparente                         R$39,90\n",
      "280                                                                                                                                                           Capa iPhone 7/8 Spigen Ultra Hybrid Crystal Clear, Spigen, Capa Anti-Impacto, Transparente                        R$149,00\n",
      "281                                                         Capa SUPCASE Unicorn Beetle Vault Series projetada para iPhone 12 / iPhone 12 Pro (versão 2020) Capa tipo carteira protetora fina de 6,1 polegadas com suporte para cartão integrado (preto)                        R$170,00\n",
      "282                                                                                                          Capa Capinha Anti Impacto Para Iphone 12 e 12 Pro com Tela de 6.1\" polegadas - Case Com Desenho Fibra De Carbono Shock Queda - Danet (Azul)                         R$59,99\n",
      "283                                                                                                                                                                                            Pendrive SanDisk 128GB 3.0 Ixpand Mini para Iphone e Ipad                        R$358,99\n",
      "284                                                                                                                                                                                            Iphone 12 mini Apple Azul, 128gb Desbloqueado - Mge63bz/a                      R$7.225,54\n",
      "285                                                                                                                                                                           Capa Carbon X Slim, GEONAV, Capa Protetora Rígida, Preto, 75 x 145 x 10 mm                         R$79,90\n",
      "286                                                                                                                                                                                 Carregador Baseus QC3.0 Pps Carga Rápida C+A 30w Usb E Tipo C Branco                        R$158,90\n",
      "287                                                                                                                                                                                            CAPA CASE CAPINHA SILICONE AVELUDADO IPHONE XR VERDE AGUA                         R$29,90\n",
      "288                                                                                                                                                                                               CAPA CASE CAPINHA SILICONE AVELUDADO IPHONE 8 VERMELHO                         R$39,90\n",
      "289                                                                                                                                Pelicula NanoShield Fosca para Apple iPhone XR - VERSO, Hprime, Película Protetora de Tela para Celular, Transparente                         R$41,04\n",
      "290                                                                                                                                                                                                CAPA CASE CAPINHA SILICONE AVELUDADO IPHONE XR BRANCO                         R$34,90\n",
      "291                                                                                                                       Capa Anti-Impacto Personalizada para Iphone 6 Plus/ 6S Plus - Astronauta - Husky, Husky, Capa Protetora para Celular, Colorido                         R$16,75\n",
      "292                                                                                                                                                                     Capa Spigen Tough Armor iPhone 11 Pro Max 6.5\" - 100% Original (XP Satin Silver)                        R$199,90\n",
      "293                                                                                                                                                                                                      Pelicula de Vidro 3D Para IPhone 12 Pro Max 6.7                         R$39,99\n",
      "294                                                                                                                                                                                               iPhone 6s Apple Dourado 32GB, Desbloqueado - MN112BR/A  Preço à tratar com vendedores.\n",
      "295                                                                                                                                                                                        Iphone 8 Apple Cinza Espacial, 256gb Desbloqueado - Mq7c2br/a  Preço à tratar com vendedores.\n",
      "296                                                                                                                                                   Kit 3x Películas de Vidro 3D Temperado iPhone 11 11 Pro 11 Pro Max + Kit Aplicação (iPhone 11 Pro)                         R$35,00\n",
      "297                                                                                      Pelicula de Vidro Premium 3D para iPhone 11 Pro, proteção de superfície oleofóbica e hidrofóbica, alta transparência, proteção total da tela, GLIP11P3D, Geonav                         R$49,90\n",
      "298                                                                                                                                                                                                         Capa iPhone 12 Pro Max - Defender - OtterBox  Preço à tratar com vendedores.\n",
      "299                                                                                                                                                        iphone X Apple 64GB Prata Tela Super Retina HD Oled 5.8 Ios 11 4G, Câmeras de 12 MP Mqac2Bz/A                      R$5.498,00\n",
      "300                                    ESR Suporte de metal projetado para iPhone 11 Pro Max (suporte vertical e horizontal) [Proteção contra queda reforçada] Parte traseira de TPU flexível e macia para iPhone 11 Pro Max (versão 2019), transparente                         R$79,99\n",
      "301                                                                                                                                                                                              Capinha Silicone Transparente Antichoque Iphone 5 5S 5C                          R$9,99\n",
      "302                                                                                                                               Capa Carbon protetora para iPhone XS Max, lateral emborrachada flexível, acabamento texturizado, Preto, IPSXMB, Geonav                         R$89,00\n",
      "303                                                                                                                                                                          Capa Transparente Air Anti Impacto Iphone 7 E 8 4.7 Antichoque Tpu Silicone                         R$33,00\n",
      "304                                                                                                                                                                                      Película iPhone 12 Mini (5.4) Kingshield Vidro (2xUnid) - Fosca                         R$79,99\n",
      "305                                                                                                                                                                                        CAPA CASE CAPINHA SILICONE AVELUDADO IPHONE XS MAX VERDE AGUA                         R$39,90\n"
     ]
    }
   ],
   "source": [
    "products_main = numpy.asarray(rep)\n",
    "products_sec = numpy.asarray(ext)\n",
    "\n",
    "dfm = pd.DataFrame(products_main)\n",
    "dfe = pd.DataFrame(products_sec)\n",
    "\n",
    "print(dfm.to_string())"
   ]
  },
  {
   "cell_type": "code",
   "execution_count": 30,
   "metadata": {},
   "outputs": [],
   "source": [
    "dfm.to_csv(search_term + '_main.csv')\n",
    "dfe.to_csv(search_term + '_extra.csv')"
   ]
  },
  {
   "cell_type": "code",
   "execution_count": null,
   "metadata": {},
   "outputs": [],
   "source": []
  },
  {
   "cell_type": "code",
   "execution_count": null,
   "metadata": {},
   "outputs": [],
   "source": []
  }
 ],
 "metadata": {
  "kernelspec": {
   "display_name": "Python 3",
   "language": "python",
   "name": "python3"
  },
  "language_info": {
   "codemirror_mode": {
    "name": "ipython",
    "version": 3
   },
   "file_extension": ".py",
   "mimetype": "text/x-python",
   "name": "python",
   "nbconvert_exporter": "python",
   "pygments_lexer": "ipython3",
   "version": "3.8.6"
  }
 },
 "nbformat": 4,
 "nbformat_minor": 4
}
