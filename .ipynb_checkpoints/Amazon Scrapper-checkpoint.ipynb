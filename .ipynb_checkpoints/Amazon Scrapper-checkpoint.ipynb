{
 "cells": [
  {
   "cell_type": "code",
   "execution_count": 1,
   "metadata": {},
   "outputs": [],
   "source": [
    "from requests import Request, Session\n",
    "from bs4 import BeautifulSoup\n",
    "import numpy\n",
    "import pandas as pd"
   ]
  },
  {
   "cell_type": "code",
   "execution_count": 2,
   "metadata": {},
   "outputs": [],
   "source": [
    "#set the search term here\n",
    "search_term = 'iphone'"
   ]
  },
  {
   "cell_type": "code",
   "execution_count": 3,
   "metadata": {},
   "outputs": [],
   "source": [
    "page = 1\n",
    "page_limit = 0\n",
    "soups = []"
   ]
  },
  {
   "cell_type": "code",
   "execution_count": 4,
   "metadata": {
    "scrolled": true
   },
   "outputs": [],
   "source": [
    "def urlfier(url):\n",
    "    return ''.join(url)\n",
    "\n",
    "def extractText(info):\n",
    "    return BeautifulSoup(str(info), \"html.parser\").find(text=True)"
   ]
  },
  {
   "cell_type": "code",
   "execution_count": 5,
   "metadata": {},
   "outputs": [
    {
     "data": {
      "text/plain": [
       "{'User-Agent': 'Mozilla/5.0 (Windows NT 10.0; Win64; x64) AppleWebKit/537.36 (KHTML, like Gecko) Chrome/87.0.4280.88 Safari/537.36',\n",
       " 'authority': 'www.amazon.com.br',\n",
       " 'scheme': 'https',\n",
       " 'origin': 'https://www.amazon.com.br',\n",
       " 'accept': 'text/html,*/*',\n",
       " 'accept-language': 'en-US,en;q=0.9,ja-JP;q=0.8,ja;q=0.7,pt-BR;q=0.6,pt;q=0.5',\n",
       " 'content-type': 'application/json',\n",
       " 'downlink': '50',\n",
       " 'ect': '4g',\n",
       " 'rtt': '100',\n",
       " 'sec-ch-ua': '\"Google Chrome\";v=\"87\", \" Not;A Brand\";v=\"99\", \"Chromium\";v=\"87\"',\n",
       " 'sec-ch-ua-mobile': '?0',\n",
       " 'sec-fetch-dest': 'empty',\n",
       " 'sec-fetch-mode': 'cors',\n",
       " 'sec-fetch-site': 'same-origin',\n",
       " 'x-amazon-rush-fingerprints': 'AmazonRushAssetLoader:82DC4FCDBC1BD29C851447C5E56300ACEBC3484E|AmazonRushFramework:C63458EFD5C6F3B9DB4C55251BDF45CAB84ACA9E|AmazonRushRouter:C88B480F313C8089B887E17289DB6E9437386461|SearchAssets:68AEE251205924E94A40052B6F4BBA8540827F9F|DynamicImageLoader:72044AC19F5D25484C3A6A210715639EB294450A|SearchPartnerAssets:C3828FDE58240400D60660B659C2BB69C3AF2C8C',\n",
       " 'x-amazon-s-fallback-url': '',\n",
       " 'x-amazon-s-mismatch-behavior': 'ALLOW',\n",
       " 'x-amazon-s-swrs-version': '0265482AAA9506275F3AC0E0B1B2250D',\n",
       " 'x-requested-with': 'XMLHttpRequest'}"
      ]
     },
     "execution_count": 5,
     "metadata": {},
     "output_type": "execute_result"
    }
   ],
   "source": [
    "# Headers Setup\n",
    "headers = {    \n",
    "    #setting as default browser.\n",
    "    \"User-Agent\": \"Mozilla/5.0 (Windows NT 10.0; Win64; x64) AppleWebKit/537.36 (KHTML, like Gecko) Chrome/87.0.4280.88 Safari/537.36\",\n",
    "    \n",
    "    #some configs i thought was important (i don't know yet)\n",
    "    \"authority\": \"www.amazon.com.br\",\n",
    "    \"scheme\": \"https\",\n",
    "    \"origin\": \"https://www.amazon.com.br\",\n",
    "    \n",
    "    \"accept\": \"text/html,*/*\",\n",
    "    \"accept-language\": \"en-US,en;q=0.9,ja-JP;q=0.8,ja;q=0.7,pt-BR;q=0.6,pt;q=0.5\",\n",
    "    \"content-type\": \"application/json\",\n",
    "    \"downlink\": \"50\",\n",
    "    \"ect\": \"4g\",\n",
    "    \"rtt\": \"100\",\n",
    "    \"sec-ch-ua\": \"\\\"Google Chrome\\\";v=\\\"87\\\", \\\" Not;A Brand\\\";v=\\\"99\\\", \\\"Chromium\\\";v=\\\"87\\\"\",\n",
    "    \"sec-ch-ua-mobile\": \"?0\",\n",
    "    \"sec-fetch-dest\": \"empty\",\n",
    "    \"sec-fetch-mode\": \"cors\",\n",
    "    \"sec-fetch-site\": \"same-origin\",\n",
    "    \"x-amazon-rush-fingerprints\": \"AmazonRushAssetLoader:82DC4FCDBC1BD29C851447C5E56300ACEBC3484E|AmazonRushFramework:C63458EFD5C6F3B9DB4C55251BDF45CAB84ACA9E|AmazonRushRouter:C88B480F313C8089B887E17289DB6E9437386461|SearchAssets:68AEE251205924E94A40052B6F4BBA8540827F9F|DynamicImageLoader:72044AC19F5D25484C3A6A210715639EB294450A|SearchPartnerAssets:C3828FDE58240400D60660B659C2BB69C3AF2C8C\",\n",
    "    \"x-amazon-s-fallback-url\": \"\",\n",
    "    \"x-amazon-s-mismatch-behavior\": \"ALLOW\",\n",
    "    \"x-amazon-s-swrs-version\": \"0265482AAA9506275F3AC0E0B1B2250D\",\n",
    "    \"x-requested-with\": \"XMLHttpRequest\"\n",
    "}\n",
    "\n",
    "headers"
   ]
  },
  {
   "cell_type": "code",
   "execution_count": 6,
   "metadata": {},
   "outputs": [
    {
     "data": {
      "text/plain": [
       "('https://www.amazon.com.br/s?k=iphone&page=1',\n",
       " 'https://www.amazon.com.br/s?k=iphone&page=1')"
      ]
     },
     "execution_count": 6,
     "metadata": {},
     "output_type": "execute_result"
    }
   ],
   "source": [
    "URL = ['https://www.amazon.com.br/s?k=', search_term,'&page=', str(page)]\n",
    "prepped = Request('GET',\n",
    "                  urlfier(URL),\n",
    "                  headers=headers,\n",
    "                  #params=payload\n",
    "                 ).prepare()\n",
    "prepped.url, urlfier(URL)"
   ]
  },
  {
   "cell_type": "code",
   "execution_count": 7,
   "metadata": {},
   "outputs": [
    {
     "data": {
      "text/plain": [
       "(<Response [200]>, 1)"
      ]
     },
     "execution_count": 7,
     "metadata": {},
     "output_type": "execute_result"
    }
   ],
   "source": [
    "s = Session() # Session Setup\n",
    "resp = s.send(prepped) #request\n",
    "\n",
    "soups.append(BeautifulSoup(resp.content, 'html.parser')) #appending first request to \"soups list\"\n",
    "\n",
    "resp, len(soups)"
   ]
  },
  {
   "cell_type": "code",
   "execution_count": 8,
   "metadata": {},
   "outputs": [
    {
     "data": {
      "text/plain": [
       "'7'"
      ]
     },
     "execution_count": 8,
     "metadata": {},
     "output_type": "execute_result"
    }
   ],
   "source": [
    "#getting how much pages has the search\n",
    "aux = soups[0].select('ul.a-pagination li[aria-disabled=true]')\n",
    "if len(aux) == 0:\n",
    "    page_limit = 0\n",
    "else:\n",
    "    page_limit = aux[0].get_text()\n",
    "\n",
    "page_limit"
   ]
  },
  {
   "cell_type": "code",
   "execution_count": 9,
   "metadata": {},
   "outputs": [
    {
     "name": "stdout",
     "output_type": "stream",
     "text": [
      "Requesting page 2\n",
      "Requesting page 3\n",
      "Requesting page 4\n",
      "Requesting page 5\n",
      "Requesting page 6\n",
      "Requesting page 7\n"
     ]
    },
    {
     "data": {
      "text/plain": [
       "('total ', 7)"
      ]
     },
     "execution_count": 9,
     "metadata": {},
     "output_type": "execute_result"
    }
   ],
   "source": [
    "if int(page_limit) != 0:\n",
    "    i = 2\n",
    "    while i <= int(page_limit):\n",
    "        resp = None\n",
    "        \n",
    "        URL[3] = str(i)\n",
    "        prepped.url = urlfier(URL)\n",
    "        \n",
    "        resp = s.send(prepped)\n",
    "        soups.append(BeautifulSoup(resp.content, 'html.parser'))\n",
    "        \n",
    "        print(f'Requesting page {len(soups)}')\n",
    "        \n",
    "        i = i + 1\n",
    "\n",
    "'total ', len(soups)"
   ]
  },
  {
   "cell_type": "code",
   "execution_count": 10,
   "metadata": {},
   "outputs": [],
   "source": [
    "products = []"
   ]
  },
  {
   "cell_type": "code",
   "execution_count": 11,
   "metadata": {},
   "outputs": [
    {
     "name": "stdout",
     "output_type": "stream",
     "text": [
      "306 products found.\n"
     ]
    }
   ],
   "source": [
    "#get all products of all pages\n",
    "for page in soups:\n",
    "    products += page.select('div [data-index][data-uuid]')\n",
    "\n",
    "print(f'{len(products)} products found.')"
   ]
  },
  {
   "cell_type": "code",
   "execution_count": 12,
   "metadata": {
    "scrolled": false
   },
   "outputs": [
    {
     "data": {
      "text/plain": [
       "(306,\n",
       " 306,\n",
       " ['Iphone Xr Apple Preto, 64gb Desbloqueado - Mry42br/a', 'Sem Estoque.'])"
      ]
     },
     "execution_count": 12,
     "metadata": {},
     "output_type": "execute_result"
    }
   ],
   "source": [
    "rep = []\n",
    "ext = []\n",
    "\n",
    "#extract all products infos\n",
    "for item in products:\n",
    "    aux1 = []\n",
    "    aux2 = []\n",
    "    \n",
    "    #get name of product\n",
    "    name = extractText(item.select('h2 span')[0])\n",
    "  \n",
    "    #get product price\n",
    "    price = item.select('span.a-offscreen')\n",
    "\n",
    "    #get stock of product\n",
    "    stock = item.select('div span[aria-label=\"Não disponível.\"] span[dir]')\n",
    "\n",
    "    if len(price) == 0:\n",
    "        if len(stock) == 0:\n",
    "            price = 'Sem Estoque.'\n",
    "        else:\n",
    "            price = 'Preço à tratar com vendedores.'\n",
    "    else:\n",
    "        price = extractText(price[0])\n",
    "\n",
    "    aux1.append([name, price]) #appending info into (auxiliary var) \n",
    "\n",
    "    stars = item.select('span.a-icon-alt') #get stars of product\n",
    "    if len(stars) == 0:\n",
    "        stars = 'Sem avaliação'\n",
    "    else:\n",
    "        stars = extractText(stars[0])\n",
    "\n",
    "    rates = item.select('span[aria-label] a span.a-size-base') #rates in a product\n",
    "    if len(rates) == 0:\n",
    "        rates = 'Sem avaliação'\n",
    "    else:\n",
    "        rates = extractText(rates[0])\n",
    "\n",
    "    #link of an product\n",
    "    link = 'https://www.amazon.com.br' + item.select('h2 a')[0].get('href')\n",
    "\n",
    "    #appending info into (auxiliary var)\n",
    "    aux2.append([link, stars, rates])\n",
    "\n",
    "    rep.append(aux1[0])\n",
    "    ext.append(aux2[0])\n",
    "    \n",
    "len(rep), len(ext)"
   ]
  },
  {
   "cell_type": "code",
   "execution_count": 15,
   "metadata": {},
   "outputs": [
    {
     "data": {
      "text/plain": [
       "['Novo Iphone Xr 64Gb Branco Ios 12 4G ...', 'Sem Estoque.']"
      ]
     },
     "execution_count": 15,
     "metadata": {},
     "output_type": "execute_result"
    }
   ],
   "source": [
    "rep[1]"
   ]
  },
  {
   "cell_type": "code",
   "execution_count": 56,
   "metadata": {},
   "outputs": [
    {
     "name": "stderr",
     "output_type": "stream",
     "text": [
      "c:\\python38\\lib\\site-packages\\numpy\\core\\_asarray.py:83: VisibleDeprecationWarning: Creating an ndarray from ragged nested sequences (which is a list-or-tuple of lists-or-tuples-or ndarrays with different lengths or shapes) is deprecated. If you meant to do this, you must specify 'dtype=object' when creating the ndarray\n",
      "  return array(a, dtype, copy=False, order=order)\n"
     ]
    },
    {
     "data": {
      "text/plain": [
       "(                                                     0             1\n",
       " 0    [Iphone Xr Apple Preto, 64gb Desbloqueado - Mr...  Sem Estoque.\n",
       " 1           [Novo Iphone Xr 64Gb Branco Ios 12 4G ...]  Sem Estoque.\n",
       " 2    [Iphone Xr Apple Branco, 128gb Desbloqueado - ...  Sem Estoque.\n",
       " 3    [Xiaomi Redmi Note 9 128GB 4GB RAM - Versão Gl...    R$1.682,00\n",
       " 4    [iPhone 11 64GB Preto iOS 4G Câmera 12MP - Apple]  Sem Estoque.\n",
       " ..                                                 ...           ...\n",
       " 301  [Pelicula de Vidro Temperado 9h para Apple iPh...       R$39,90\n",
       " 302  [Capa Transparente Air Anti Impacto Iphone 7 E...       R$33,00\n",
       " 303  [ESR Cloud Series Compatível com Capa para iPh...       R$69,99\n",
       " 304  [ESR Clear iPhone 12 Mini Case, Silicone Slim ...       R$59,99\n",
       " 305  [Película iPhone 12 Mini (5.4) Kingshield Vidr...       R$79,99\n",
       " \n",
       " [306 rows x 2 columns],\n",
       "                                                      0                  1  \\\n",
       " 0    http://www.amazon.com.br/Iphone-Apple-Preto-64...  4,6 de 5 estrelas   \n",
       " 1    http://www.amazon.com.br/Novo-Iphone-64Gb-Bran...  5,0 de 5 estrelas   \n",
       " 2    http://www.amazon.com.br/Iphone-Apple-Branco-1...  4,6 de 5 estrelas   \n",
       " 3    http://www.amazon.com.br/Xiaomi-Redmi-Note-128...  4,7 de 5 estrelas   \n",
       " 4    http://www.amazon.com.br/IPHONE-11-PRETO-TELA-...  5,0 de 5 estrelas   \n",
       " ..                                                 ...                ...   \n",
       " 301  http://www.amazon.com.br/Pel%C3%ADcula-Premium...  3,6 de 5 estrelas   \n",
       " 302  http://www.amazon.com.br/Transparente-Impacto-...  4,2 de 5 estrelas   \n",
       " 303  http://www.amazon.com.br/Compat%C3%ADvel-Silic...  5,0 de 5 estrelas   \n",
       " 304  http://www.amazon.com.br/Clear-iPhone-Mini-Sil...  4,4 de 5 estrelas   \n",
       " 305  http://www.amazon.com.br/Pel%C3%ADcula-iPhone-...      Sem avaliação   \n",
       " \n",
       "                  2  \n",
       " 0               16  \n",
       " 1               10  \n",
       " 2               14  \n",
       " 3            7.537  \n",
       " 4               13  \n",
       " ..             ...  \n",
       " 301             34  \n",
       " 302             10  \n",
       " 303              1  \n",
       " 304            128  \n",
       " 305  Sem avaliação  \n",
       " \n",
       " [306 rows x 3 columns])"
      ]
     },
     "execution_count": 56,
     "metadata": {},
     "output_type": "execute_result"
    }
   ],
   "source": [
    "products_main = numpy.asarray(rep)\n",
    "products_sec = numpy.asarray(ext)\n",
    "\n",
    "df = pd.DataFrame(products_main)\n",
    "dfe = pd.DataFrame(products_sec)"
   ]
  },
  {
   "cell_type": "code",
   "execution_count": 57,
   "metadata": {},
   "outputs": [],
   "source": [
    "df.to_csv(search_term+'_main.csv')\n",
    "dfe.to_csv(search_term+'_extra.csv')"
   ]
  },
  {
   "cell_type": "code",
   "execution_count": null,
   "metadata": {},
   "outputs": [],
   "source": []
  },
  {
   "cell_type": "code",
   "execution_count": null,
   "metadata": {},
   "outputs": [],
   "source": []
  }
 ],
 "metadata": {
  "kernelspec": {
   "display_name": "Python 3",
   "language": "python",
   "name": "python3"
  },
  "language_info": {
   "codemirror_mode": {
    "name": "ipython",
    "version": 3
   },
   "file_extension": ".py",
   "mimetype": "text/x-python",
   "name": "python",
   "nbconvert_exporter": "python",
   "pygments_lexer": "ipython3",
   "version": "3.8.6"
  }
 },
 "nbformat": 4,
 "nbformat_minor": 4
}
