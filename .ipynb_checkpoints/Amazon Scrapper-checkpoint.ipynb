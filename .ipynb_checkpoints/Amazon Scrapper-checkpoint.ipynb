{
 "cells": [
  {
   "cell_type": "markdown",
   "metadata": {},
   "source": [
    "### Troque aqui o termo de busca"
   ]
  },
  {
   "cell_type": "code",
   "execution_count": 1,
   "metadata": {},
   "outputs": [
    {
     "name": "stdout",
     "output_type": "stream",
     "text": [
      "O termo de busca será: iphone\n"
     ]
    }
   ],
   "source": [
    "#set the search term here\n",
    "search_term = 'iphone'\n",
    "\n",
    "print(f'O termo de busca será: {search_term}')"
   ]
  },
  {
   "cell_type": "markdown",
   "metadata": {},
   "source": [
    "#### Imports"
   ]
  },
  {
   "cell_type": "code",
   "execution_count": 2,
   "metadata": {},
   "outputs": [],
   "source": [
    "from requests import Request, Session\n",
    "from bs4 import BeautifulSoup\n",
    "import pandas as pd"
   ]
  },
  {
   "cell_type": "markdown",
   "metadata": {},
   "source": [
    "#### Algumas variáveis importantes"
   ]
  },
  {
   "cell_type": "code",
   "execution_count": 3,
   "metadata": {},
   "outputs": [],
   "source": [
    "page = 1\n",
    "page_limit = 0\n",
    "soups = []"
   ]
  },
  {
   "cell_type": "markdown",
   "metadata": {},
   "source": [
    "#### Algumas funções importantes"
   ]
  },
  {
   "cell_type": "code",
   "execution_count": 4,
   "metadata": {
    "scrolled": true
   },
   "outputs": [],
   "source": [
    "def urlfier(url):\n",
    "    return ''.join(url)\n",
    "\n",
    "def extractText(info):\n",
    "    return BeautifulSoup(str(info), \"html.parser\").find(text=True)"
   ]
  },
  {
   "cell_type": "markdown",
   "metadata": {},
   "source": [
    "#### Configuração da request personalizada"
   ]
  },
  {
   "cell_type": "code",
   "execution_count": 5,
   "metadata": {},
   "outputs": [
    {
     "data": {
      "text/plain": [
       "{'User-Agent': 'Mozilla/5.0 (Windows NT 10.0; Win64; x64) AppleWebKit/537.36 (KHTML, like Gecko) Chrome/87.0.4280.88 Safari/537.36',\n",
       " 'authority': 'www.amazon.com.br',\n",
       " 'scheme': 'https',\n",
       " 'origin': 'https://www.amazon.com.br',\n",
       " 'accept': 'text/html,*/*',\n",
       " 'accept-language': 'en-US,en;q=0.9,ja-JP;q=0.8,ja;q=0.7,pt-BR;q=0.6,pt;q=0.5',\n",
       " 'content-type': 'application/json',\n",
       " 'downlink': '50',\n",
       " 'ect': '4g',\n",
       " 'rtt': '100',\n",
       " 'sec-ch-ua': '\"Google Chrome\";v=\"87\", \" Not;A Brand\";v=\"99\", \"Chromium\";v=\"87\"',\n",
       " 'sec-ch-ua-mobile': '?0',\n",
       " 'sec-fetch-dest': 'empty',\n",
       " 'sec-fetch-mode': 'cors',\n",
       " 'sec-fetch-site': 'same-origin',\n",
       " 'x-amazon-rush-fingerprints': 'AmazonRushAssetLoader:82DC4FCDBC1BD29C851447C5E56300ACEBC3484E|AmazonRushFramework:C63458EFD5C6F3B9DB4C55251BDF45CAB84ACA9E|AmazonRushRouter:C88B480F313C8089B887E17289DB6E9437386461|SearchAssets:68AEE251205924E94A40052B6F4BBA8540827F9F|DynamicImageLoader:72044AC19F5D25484C3A6A210715639EB294450A|SearchPartnerAssets:C3828FDE58240400D60660B659C2BB69C3AF2C8C',\n",
       " 'x-amazon-s-fallback-url': '',\n",
       " 'x-amazon-s-mismatch-behavior': 'ALLOW',\n",
       " 'x-amazon-s-swrs-version': '0265482AAA9506275F3AC0E0B1B2250D',\n",
       " 'x-requested-with': 'XMLHttpRequest'}"
      ]
     },
     "execution_count": 5,
     "metadata": {},
     "output_type": "execute_result"
    }
   ],
   "source": [
    "# Headers Setup\n",
    "headers = {    \n",
    "    #setting as default browser.\n",
    "    \"User-Agent\": \"Mozilla/5.0 (Windows NT 10.0; Win64; x64) AppleWebKit/537.36 (KHTML, like Gecko) Chrome/87.0.4280.88 Safari/537.36\",\n",
    "    \n",
    "    #some configs i thought was important (i don't know yet)\n",
    "    \"authority\": \"www.amazon.com.br\",\n",
    "    \"scheme\": \"https\",\n",
    "    \"origin\": \"https://www.amazon.com.br\",\n",
    "    \n",
    "    \"accept\": \"text/html,*/*\",\n",
    "    \"accept-language\": \"en-US,en;q=0.9,ja-JP;q=0.8,ja;q=0.7,pt-BR;q=0.6,pt;q=0.5\",\n",
    "    \"content-type\": \"application/json\",\n",
    "    \"downlink\": \"50\",\n",
    "    \"ect\": \"4g\",\n",
    "    \"rtt\": \"100\",\n",
    "    \"sec-ch-ua\": \"\\\"Google Chrome\\\";v=\\\"87\\\", \\\" Not;A Brand\\\";v=\\\"99\\\", \\\"Chromium\\\";v=\\\"87\\\"\",\n",
    "    \"sec-ch-ua-mobile\": \"?0\",\n",
    "    \"sec-fetch-dest\": \"empty\",\n",
    "    \"sec-fetch-mode\": \"cors\",\n",
    "    \"sec-fetch-site\": \"same-origin\",\n",
    "    \"x-amazon-rush-fingerprints\": \"AmazonRushAssetLoader:82DC4FCDBC1BD29C851447C5E56300ACEBC3484E|AmazonRushFramework:C63458EFD5C6F3B9DB4C55251BDF45CAB84ACA9E|AmazonRushRouter:C88B480F313C8089B887E17289DB6E9437386461|SearchAssets:68AEE251205924E94A40052B6F4BBA8540827F9F|DynamicImageLoader:72044AC19F5D25484C3A6A210715639EB294450A|SearchPartnerAssets:C3828FDE58240400D60660B659C2BB69C3AF2C8C\",\n",
    "    \"x-amazon-s-fallback-url\": \"\",\n",
    "    \"x-amazon-s-mismatch-behavior\": \"ALLOW\",\n",
    "    \"x-amazon-s-swrs-version\": \"0265482AAA9506275F3AC0E0B1B2250D\",\n",
    "    \"x-requested-with\": \"XMLHttpRequest\"\n",
    "}\n",
    "\n",
    "headers"
   ]
  },
  {
   "cell_type": "code",
   "execution_count": 6,
   "metadata": {},
   "outputs": [
    {
     "data": {
      "text/plain": [
       "('https://www.amazon.com.br/s?k=iphone&page=1',\n",
       " 'https://www.amazon.com.br/s?k=iphone&page=1')"
      ]
     },
     "execution_count": 6,
     "metadata": {},
     "output_type": "execute_result"
    }
   ],
   "source": [
    "URL = ['https://www.amazon.com.br/s?k=', search_term,'&page=', str(page)]\n",
    "prepped = Request('GET',\n",
    "                  urlfier(URL),\n",
    "                  headers=headers,\n",
    "                  #params=payload\n",
    "                 ).prepare()\n",
    "prepped.url, urlfier(URL)"
   ]
  },
  {
   "cell_type": "markdown",
   "metadata": {},
   "source": [
    "#### Primeira requisição sendo feita e salva"
   ]
  },
  {
   "cell_type": "code",
   "execution_count": 7,
   "metadata": {},
   "outputs": [
    {
     "data": {
      "text/plain": [
       "(<Response [200]>, 1)"
      ]
     },
     "execution_count": 7,
     "metadata": {},
     "output_type": "execute_result"
    }
   ],
   "source": [
    "s = Session() # Session Setup\n",
    "resp = s.send(prepped) #request\n",
    "\n",
    "soups.append(BeautifulSoup(resp.content, 'html.parser')) #appending first request to \"soups list\"\n",
    "\n",
    "resp, len(soups)"
   ]
  },
  {
   "cell_type": "markdown",
   "metadata": {},
   "source": [
    "#### Busca do número total de páginas"
   ]
  },
  {
   "cell_type": "code",
   "execution_count": 8,
   "metadata": {},
   "outputs": [
    {
     "name": "stdout",
     "output_type": "stream",
     "text": [
      "7 pages in total.\n"
     ]
    }
   ],
   "source": [
    "#getting how much pages has the search\n",
    "aux = soups[0].select('ul.a-pagination li[aria-disabled=true]')\n",
    "if len(aux) == 0:\n",
    "    page_limit = 0\n",
    "else:\n",
    "    page_limit = aux[0].get_text()\n",
    "\n",
    "print(f'{page_limit} pages in total.')"
   ]
  },
  {
   "cell_type": "markdown",
   "metadata": {},
   "source": [
    "#### Requisições baseadas na quantidade total de páginas"
   ]
  },
  {
   "cell_type": "code",
   "execution_count": 9,
   "metadata": {},
   "outputs": [
    {
     "name": "stdout",
     "output_type": "stream",
     "text": [
      "Requesting page 2\n",
      "Requesting page 3\n",
      "Requesting page 4\n",
      "Requesting page 5\n",
      "Requesting page 6\n",
      "Requesting page 7\n",
      "7 pages has been saved.\n"
     ]
    }
   ],
   "source": [
    "if int(page_limit) != 0:\n",
    "    i = 2\n",
    "    while i <= int(page_limit):\n",
    "        resp = None\n",
    "        \n",
    "        URL[3] = str(i)\n",
    "        prepped.url = urlfier(URL)\n",
    "        \n",
    "        resp = s.send(prepped)\n",
    "        soups.append(BeautifulSoup(resp.content, 'html.parser'))\n",
    "        \n",
    "        print(f'Requesting page {len(soups)}')\n",
    "        \n",
    "        i = i + 1\n",
    "\n",
    "print(f'{len(soups)} pages has been saved.')"
   ]
  },
  {
   "cell_type": "markdown",
   "metadata": {},
   "source": [
    "#### Extração dos produtos para simplificar o manuseio dos dados"
   ]
  },
  {
   "cell_type": "code",
   "execution_count": 10,
   "metadata": {},
   "outputs": [
    {
     "name": "stdout",
     "output_type": "stream",
     "text": [
      "306 products found in total.\n"
     ]
    }
   ],
   "source": [
    "products = []\n",
    "for page in soups:\n",
    "    products += page.select('div [data-index][data-uuid]')\n",
    "\n",
    "print(f'{len(products)} products found in total.')"
   ]
  },
  {
   "cell_type": "markdown",
   "metadata": {},
   "source": [
    "#### Extração das informações importantes (nome do produto e valor), e também algumas informações extras para uso posterior"
   ]
  },
  {
   "cell_type": "code",
   "execution_count": 12,
   "metadata": {
    "scrolled": false
   },
   "outputs": [
    {
     "data": {
      "text/plain": [
       "(306, 306)"
      ]
     },
     "execution_count": 12,
     "metadata": {},
     "output_type": "execute_result"
    }
   ],
   "source": [
    "rep = []\n",
    "ext = []\n",
    "\n",
    "#extract all products infos\n",
    "for item in products:\n",
    "    aux1 = []\n",
    "    aux2 = []\n",
    "    \n",
    "    #get name of product\n",
    "    name = ''\n",
    "    name = extractText(item.select('h2 span')[0])\n",
    "  \n",
    "    #get product price\n",
    "    price = item.select('span.a-offscreen')\n",
    "\n",
    "    #get stock of product\n",
    "    stock = item.select('div span[aria-label=\"Não disponível.\"] span[dir]')\n",
    "\n",
    "    if len(price) == 0:\n",
    "        if len(stock) == 0:\n",
    "            price = 'Preço à tratar com vendedores.'\n",
    "        else:\n",
    "            price = 'Sem Estoque.'\n",
    "    else:\n",
    "        price = extractText(price[0])\n",
    "\n",
    "    aux1.append({\"produto\": name, \n",
    "                 \"valor\": price\n",
    "                }) #appending info into (auxiliary var) \n",
    "\n",
    "    stars = item.select('span.a-icon-alt') #get stars of product\n",
    "    if len(stars) == 0:\n",
    "        stars = 'Sem avaliação'\n",
    "    else:\n",
    "        stars = extractText(stars[0])\n",
    "\n",
    "    rates = item.select('span[aria-label] a span.a-size-base') #rates in a product\n",
    "    if len(rates) == 0:\n",
    "        rates = 'Sem avaliação'\n",
    "    else:\n",
    "        rates = extractText(rates[0])\n",
    "\n",
    "    #link of an product\n",
    "    link = 'https://www.amazon.com.br' + item.select('h2 a')[0].get('href')\n",
    "\n",
    "    #appending info into (auxiliary var)\n",
    "    aux2.append({\"link\": link, \n",
    "                 \"estrelas\": stars, \n",
    "                 \"avaliacoes\": rates})\n",
    "\n",
    "    rep.append(aux1[0])\n",
    "    ext.append(aux2[0])\n",
    "    \n",
    "len(rep), len(ext)"
   ]
  },
  {
   "cell_type": "markdown",
   "metadata": {},
   "source": [
    "#### Exemplo de um dado"
   ]
  },
  {
   "cell_type": "code",
   "execution_count": 13,
   "metadata": {},
   "outputs": [
    {
     "data": {
      "text/plain": [
       "{'produto': 'Cabo Lightning Certificado Apple MFi, Anker Powerline II, 1.8 metros, 12x mais resistente, Preto',\n",
       " 'valor': 'R$89,90'}"
      ]
     },
     "execution_count": 13,
     "metadata": {},
     "output_type": "execute_result"
    }
   ],
   "source": [
    "rep[15]"
   ]
  },
  {
   "cell_type": "code",
   "execution_count": 14,
   "metadata": {},
   "outputs": [
    {
     "data": {
      "text/html": [
       "<div>\n",
       "<style scoped>\n",
       "    .dataframe tbody tr th:only-of-type {\n",
       "        vertical-align: middle;\n",
       "    }\n",
       "\n",
       "    .dataframe tbody tr th {\n",
       "        vertical-align: top;\n",
       "    }\n",
       "\n",
       "    .dataframe thead th {\n",
       "        text-align: right;\n",
       "    }\n",
       "</style>\n",
       "<table border=\"1\" class=\"dataframe\">\n",
       "  <thead>\n",
       "    <tr style=\"text-align: right;\">\n",
       "      <th></th>\n",
       "      <th>produto</th>\n",
       "      <th>valor</th>\n",
       "    </tr>\n",
       "  </thead>\n",
       "  <tbody>\n",
       "    <tr>\n",
       "      <th>0</th>\n",
       "      <td>iPhone 11 64GB Preto iOS 4G Câmera 12MP - Apple</td>\n",
       "      <td>R$5.390,34</td>\n",
       "    </tr>\n",
       "    <tr>\n",
       "      <th>1</th>\n",
       "      <td>iPhone XS 64GB Dourado (Dourado)</td>\n",
       "      <td>R$4.599,00</td>\n",
       "    </tr>\n",
       "    <tr>\n",
       "      <th>2</th>\n",
       "      <td>Iphone Xr Apple Preto, 128gb Desbloqueado - Mr...</td>\n",
       "      <td>Preço à tratar com vendedores.</td>\n",
       "    </tr>\n",
       "    <tr>\n",
       "      <th>3</th>\n",
       "      <td>Smartphone Xiaomi Redmi Note 8 64gb Moonlight ...</td>\n",
       "      <td>R$1.475,32</td>\n",
       "    </tr>\n",
       "    <tr>\n",
       "      <th>4</th>\n",
       "      <td>Xiaomi Redmi Note 9 128GB 4GB RAM - Versão Glo...</td>\n",
       "      <td>R$1.619,00</td>\n",
       "    </tr>\n",
       "  </tbody>\n",
       "</table>\n",
       "</div>"
      ],
      "text/plain": [
       "                                             produto  \\\n",
       "0    iPhone 11 64GB Preto iOS 4G Câmera 12MP - Apple   \n",
       "1                   iPhone XS 64GB Dourado (Dourado)   \n",
       "2  Iphone Xr Apple Preto, 128gb Desbloqueado - Mr...   \n",
       "3  Smartphone Xiaomi Redmi Note 8 64gb Moonlight ...   \n",
       "4  Xiaomi Redmi Note 9 128GB 4GB RAM - Versão Glo...   \n",
       "\n",
       "                            valor  \n",
       "0                      R$5.390,34  \n",
       "1                      R$4.599,00  \n",
       "2  Preço à tratar com vendedores.  \n",
       "3                      R$1.475,32  \n",
       "4                      R$1.619,00  "
      ]
     },
     "execution_count": 14,
     "metadata": {},
     "output_type": "execute_result"
    }
   ],
   "source": [
    "dfm = pd.DataFrame.from_dict(rep)\n",
    "dfe = pd.DataFrame.from_dict(ext)\n",
    "\n",
    "dfm.head()"
   ]
  },
  {
   "cell_type": "code",
   "execution_count": null,
   "metadata": {},
   "outputs": [],
   "source": [
    "dfm.to_csv(search_term + '_main.csv')\n",
    "dfe.to_csv(search_term + '_extra.csv')"
   ]
  }
 ],
 "metadata": {
  "kernelspec": {
   "display_name": "Python 3",
   "language": "python",
   "name": "python3"
  },
  "language_info": {
   "codemirror_mode": {
    "name": "ipython",
    "version": 3
   },
   "file_extension": ".py",
   "mimetype": "text/x-python",
   "name": "python",
   "nbconvert_exporter": "python",
   "pygments_lexer": "ipython3",
   "version": "3.8.6"
  }
 },
 "nbformat": 4,
 "nbformat_minor": 4
}
