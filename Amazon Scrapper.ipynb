{
 "cells": [
  {
   "cell_type": "code",
   "execution_count": 41,
   "metadata": {},
   "outputs": [],
   "source": [
    "from requests import Request, Session\n",
    "from bs4 import BeautifulSoup\n",
    "import numpy"
   ]
  },
  {
   "cell_type": "code",
   "execution_count": 2,
   "metadata": {},
   "outputs": [],
   "source": [
    "#set the search term here\n",
    "search_term = 'iphone'"
   ]
  },
  {
   "cell_type": "code",
   "execution_count": 3,
   "metadata": {},
   "outputs": [],
   "source": [
    "page = 1\n",
    "page_limit = 0\n",
    "soups = []"
   ]
  },
  {
   "cell_type": "code",
   "execution_count": 4,
   "metadata": {
    "scrolled": true
   },
   "outputs": [],
   "source": [
    "def urlfier(url):\n",
    "    return ''.join(url)\n",
    "\n",
    "def extractText(info):\n",
    "    return BeautifulSoup(str(info), \"html.parser\").find(text=True)"
   ]
  },
  {
   "cell_type": "code",
   "execution_count": 5,
   "metadata": {},
   "outputs": [
    {
     "data": {
      "text/plain": [
       "{'User-Agent': 'Mozilla/5.0 (Windows NT 10.0; Win64; x64) AppleWebKit/537.36 (KHTML, like Gecko) Chrome/87.0.4280.88 Safari/537.36',\n",
       " 'authority': 'www.amazon.com.br',\n",
       " 'scheme': 'https',\n",
       " 'origin': 'https://www.amazon.com.br',\n",
       " 'accept': 'text/html,*/*',\n",
       " 'accept-language': 'en-US,en;q=0.9,ja-JP;q=0.8,ja;q=0.7,pt-BR;q=0.6,pt;q=0.5',\n",
       " 'content-type': 'application/json',\n",
       " 'downlink': '50',\n",
       " 'ect': '4g',\n",
       " 'rtt': '100',\n",
       " 'sec-ch-ua': '\"Google Chrome\";v=\"87\", \" Not;A Brand\";v=\"99\", \"Chromium\";v=\"87\"',\n",
       " 'sec-ch-ua-mobile': '?0',\n",
       " 'sec-fetch-dest': 'empty',\n",
       " 'sec-fetch-mode': 'cors',\n",
       " 'sec-fetch-site': 'same-origin',\n",
       " 'x-amazon-rush-fingerprints': 'AmazonRushAssetLoader:82DC4FCDBC1BD29C851447C5E56300ACEBC3484E|AmazonRushFramework:C63458EFD5C6F3B9DB4C55251BDF45CAB84ACA9E|AmazonRushRouter:C88B480F313C8089B887E17289DB6E9437386461|SearchAssets:68AEE251205924E94A40052B6F4BBA8540827F9F|DynamicImageLoader:72044AC19F5D25484C3A6A210715639EB294450A|SearchPartnerAssets:C3828FDE58240400D60660B659C2BB69C3AF2C8C',\n",
       " 'x-amazon-s-fallback-url': '',\n",
       " 'x-amazon-s-mismatch-behavior': 'ALLOW',\n",
       " 'x-amazon-s-swrs-version': '0265482AAA9506275F3AC0E0B1B2250D',\n",
       " 'x-requested-with': 'XMLHttpRequest'}"
      ]
     },
     "execution_count": 5,
     "metadata": {},
     "output_type": "execute_result"
    }
   ],
   "source": [
    "# Headers Setup\n",
    "headers = {    \n",
    "    #setting as default browser.\n",
    "    \"User-Agent\": \"Mozilla/5.0 (Windows NT 10.0; Win64; x64) AppleWebKit/537.36 (KHTML, like Gecko) Chrome/87.0.4280.88 Safari/537.36\",\n",
    "    \n",
    "    #some configs i thought was important (i don't know yet)\n",
    "    \"authority\": \"www.amazon.com.br\",\n",
    "    \"scheme\": \"https\",\n",
    "    \"origin\": \"https://www.amazon.com.br\",\n",
    "    \n",
    "    \"accept\": \"text/html,*/*\",\n",
    "    \"accept-language\": \"en-US,en;q=0.9,ja-JP;q=0.8,ja;q=0.7,pt-BR;q=0.6,pt;q=0.5\",\n",
    "    \"content-type\": \"application/json\",\n",
    "    \"downlink\": \"50\",\n",
    "    \"ect\": \"4g\",\n",
    "    \"rtt\": \"100\",\n",
    "    \"sec-ch-ua\": \"\\\"Google Chrome\\\";v=\\\"87\\\", \\\" Not;A Brand\\\";v=\\\"99\\\", \\\"Chromium\\\";v=\\\"87\\\"\",\n",
    "    \"sec-ch-ua-mobile\": \"?0\",\n",
    "    \"sec-fetch-dest\": \"empty\",\n",
    "    \"sec-fetch-mode\": \"cors\",\n",
    "    \"sec-fetch-site\": \"same-origin\",\n",
    "    \"x-amazon-rush-fingerprints\": \"AmazonRushAssetLoader:82DC4FCDBC1BD29C851447C5E56300ACEBC3484E|AmazonRushFramework:C63458EFD5C6F3B9DB4C55251BDF45CAB84ACA9E|AmazonRushRouter:C88B480F313C8089B887E17289DB6E9437386461|SearchAssets:68AEE251205924E94A40052B6F4BBA8540827F9F|DynamicImageLoader:72044AC19F5D25484C3A6A210715639EB294450A|SearchPartnerAssets:C3828FDE58240400D60660B659C2BB69C3AF2C8C\",\n",
    "    \"x-amazon-s-fallback-url\": \"\",\n",
    "    \"x-amazon-s-mismatch-behavior\": \"ALLOW\",\n",
    "    \"x-amazon-s-swrs-version\": \"0265482AAA9506275F3AC0E0B1B2250D\",\n",
    "    \"x-requested-with\": \"XMLHttpRequest\"\n",
    "}\n",
    "\n",
    "headers"
   ]
  },
  {
   "cell_type": "code",
   "execution_count": null,
   "metadata": {},
   "outputs": [],
   "source": [
    "'''# Payload Setup\n",
    "payload = {\n",
    "    \"customer-action\": \"pagination\",\n",
    "    \"page-content-type\": \"btf\",\n",
    "    \"prefetch-type\": \"log\",\n",
    "}\n",
    "\n",
    "payload'''"
   ]
  },
  {
   "cell_type": "code",
   "execution_count": 6,
   "metadata": {},
   "outputs": [
    {
     "data": {
      "text/plain": [
       "('https://www.amazon.com.br/s?k=iphone&page=1',\n",
       " 'https://www.amazon.com.br/s?k=iphone&page=1')"
      ]
     },
     "execution_count": 6,
     "metadata": {},
     "output_type": "execute_result"
    }
   ],
   "source": [
    "URL = ['https://www.amazon.com.br/s?k=', search_term,'&page=', str(page)]\n",
    "prepped = Request('GET',\n",
    "                  urlfier(URL),\n",
    "                  headers=headers,\n",
    "                  #params=payload\n",
    "                 ).prepare()\n",
    "prepped.url, urlfier(URL)"
   ]
  },
  {
   "cell_type": "code",
   "execution_count": 7,
   "metadata": {},
   "outputs": [
    {
     "data": {
      "text/plain": [
       "(<Response [200]>, 1)"
      ]
     },
     "execution_count": 7,
     "metadata": {},
     "output_type": "execute_result"
    }
   ],
   "source": [
    "s = Session() # Session Setup\n",
    "resp = s.send(prepped) #request\n",
    "\n",
    "soups.append(BeautifulSoup(resp.content, 'html.parser')) #appending first request to \"soups list\"\n",
    "\n",
    "resp, len(soups)"
   ]
  },
  {
   "cell_type": "code",
   "execution_count": 8,
   "metadata": {},
   "outputs": [
    {
     "data": {
      "text/plain": [
       "'7'"
      ]
     },
     "execution_count": 8,
     "metadata": {},
     "output_type": "execute_result"
    }
   ],
   "source": [
    "#getting how much pages has the search\n",
    "aux = soups[0].select('ul.a-pagination li[aria-disabled=true]')\n",
    "if len(aux) == 0:\n",
    "    page_limit = 0\n",
    "else:\n",
    "    page_limit = aux[0].get_text()\n",
    "\n",
    "page_limit"
   ]
  },
  {
   "cell_type": "code",
   "execution_count": null,
   "metadata": {},
   "outputs": [],
   "source": [
    "soups = []\n",
    "\n",
    "soups"
   ]
  },
  {
   "cell_type": "code",
   "execution_count": 9,
   "metadata": {},
   "outputs": [
    {
     "name": "stdout",
     "output_type": "stream",
     "text": [
      "Requesting page 2\n",
      "Requesting page 3\n",
      "Requesting page 4\n",
      "Requesting page 5\n",
      "Requesting page 6\n",
      "Requesting page 7\n"
     ]
    },
    {
     "data": {
      "text/plain": [
       "('total ', 7)"
      ]
     },
     "execution_count": 9,
     "metadata": {},
     "output_type": "execute_result"
    }
   ],
   "source": [
    "if int(page_limit) != 0:\n",
    "    i = 2\n",
    "    while i <= int(page_limit):\n",
    "        resp = None\n",
    "        \n",
    "        URL[3] = str(i)\n",
    "        prepped.url = urlfier(URL)\n",
    "        \n",
    "        resp = s.send(prepped)\n",
    "        soups.append(BeautifulSoup(resp.content, 'html.parser'))\n",
    "        \n",
    "        print(f'Requesting page {len(soups)}')\n",
    "        \n",
    "        i = i + 1\n",
    "\n",
    "'total ', len(soups)"
   ]
  },
  {
   "cell_type": "code",
   "execution_count": 38,
   "metadata": {},
   "outputs": [],
   "source": [
    "products = []"
   ]
  },
  {
   "cell_type": "code",
   "execution_count": 39,
   "metadata": {},
   "outputs": [
    {
     "name": "stdout",
     "output_type": "stream",
     "text": [
      "306 products found.\n"
     ]
    }
   ],
   "source": [
    "#get all products of all pages\n",
    "for page in soups:\n",
    "    products += page.select('div [data-index][data-uuid]')\n",
    "\n",
    "print(f'{len(products)} products found.')"
   ]
  },
  {
   "cell_type": "code",
   "execution_count": 40,
   "metadata": {
    "scrolled": true
   },
   "outputs": [
    {
     "data": {
      "text/plain": [
       "(306, 306)"
      ]
     },
     "execution_count": 40,
     "metadata": {},
     "output_type": "execute_result"
    }
   ],
   "source": [
    "rep = []\n",
    "ext = []\n",
    "\n",
    "#extract all products infos\n",
    "for item in products:\n",
    "    aux1 = []\n",
    "    aux2 = []\n",
    "    \n",
    "    #get name of product\n",
    "    name = item.select('h2 span')[0]\n",
    "  \n",
    "    #get product price\n",
    "    price = item.select('span.a-offscreen')\n",
    "\n",
    "    #get stock of product\n",
    "    stock = item.select('div span[aria-label=\"Não disponível.\"] span[dir]')\n",
    "\n",
    "    if len(price) == 0:\n",
    "        if len(stock) == 0:\n",
    "            price = 'Sem Estoque.'\n",
    "        else:\n",
    "            price = 'Preço à tratar com vendedores.'\n",
    "    else:\n",
    "        price = extractText(price[0])\n",
    "\n",
    "    aux1.append([name, price]) #appending info into (auxiliary var) \n",
    "\n",
    "    stars = item.select('span.a-icon-alt') #get stars of product\n",
    "    if len(stars) == 0:\n",
    "        stars = 'Sem avaliação'\n",
    "    else:\n",
    "        stars = extractText(stars[0])\n",
    "\n",
    "    rates = item.select('span[aria-label] a span.a-size-base') #rates in a product\n",
    "    if len(rates) == 0:\n",
    "        rates = 'Sem avaliação'\n",
    "    else:\n",
    "        rates = extractText(rates[0])\n",
    "\n",
    "    #link of an product\n",
    "    link = 'http://www.amazon.com.br' + item.select('h2 a')[0].get('href')\n",
    "\n",
    "    #appending info into (auxiliary var)\n",
    "    aux2.append([link, stars, rates])\n",
    "\n",
    "    rep.append(aux1[0])\n",
    "    ext.append(aux2[0])\n",
    "    \n",
    "len(rep), len(ext)"
   ]
  },
  {
   "cell_type": "code",
   "execution_count": 42,
   "metadata": {},
   "outputs": [
    {
     "name": "stderr",
     "output_type": "stream",
     "text": [
      "c:\\python38\\lib\\site-packages\\numpy\\core\\_asarray.py:83: VisibleDeprecationWarning: Creating an ndarray from ragged nested sequences (which is a list-or-tuple of lists-or-tuples-or ndarrays with different lengths or shapes) is deprecated. If you meant to do this, you must specify 'dtype=object' when creating the ndarray\n",
      "  return array(a, dtype, copy=False, order=order)\n"
     ]
    },
    {
     "ename": "TypeError",
     "evalue": "Mismatch between array dtype ('object') and format specifier ('%.18e,%.18e')",
     "output_type": "error",
     "traceback": [
      "\u001b[1;31m---------------------------------------------------------------------------\u001b[0m",
      "\u001b[1;31mTypeError\u001b[0m                                 Traceback (most recent call last)",
      "\u001b[1;32mc:\\python38\\lib\\site-packages\\numpy\\lib\\npyio.py\u001b[0m in \u001b[0;36msavetxt\u001b[1;34m(fname, X, fmt, delimiter, newline, header, footer, comments, encoding)\u001b[0m\n\u001b[0;32m   1423\u001b[0m                 \u001b[1;32mtry\u001b[0m\u001b[1;33m:\u001b[0m\u001b[1;33m\u001b[0m\u001b[1;33m\u001b[0m\u001b[0m\n\u001b[1;32m-> 1424\u001b[1;33m                     \u001b[0mv\u001b[0m \u001b[1;33m=\u001b[0m \u001b[0mformat\u001b[0m \u001b[1;33m%\u001b[0m \u001b[0mtuple\u001b[0m\u001b[1;33m(\u001b[0m\u001b[0mrow\u001b[0m\u001b[1;33m)\u001b[0m \u001b[1;33m+\u001b[0m \u001b[0mnewline\u001b[0m\u001b[1;33m\u001b[0m\u001b[1;33m\u001b[0m\u001b[0m\n\u001b[0m\u001b[0;32m   1425\u001b[0m                 \u001b[1;32mexcept\u001b[0m \u001b[0mTypeError\u001b[0m\u001b[1;33m:\u001b[0m\u001b[1;33m\u001b[0m\u001b[1;33m\u001b[0m\u001b[0m\n",
      "\u001b[1;31mTypeError\u001b[0m: must be real number, not Tag",
      "\nDuring handling of the above exception, another exception occurred:\n",
      "\u001b[1;31mTypeError\u001b[0m                                 Traceback (most recent call last)",
      "\u001b[1;32m<ipython-input-42-c15ed76ec5aa>\u001b[0m in \u001b[0;36m<module>\u001b[1;34m\u001b[0m\n\u001b[0;32m      1\u001b[0m \u001b[0mproducts_main\u001b[0m \u001b[1;33m=\u001b[0m \u001b[0mnumpy\u001b[0m\u001b[1;33m.\u001b[0m\u001b[0masarray\u001b[0m\u001b[1;33m(\u001b[0m\u001b[0mrep\u001b[0m\u001b[1;33m)\u001b[0m\u001b[1;33m\u001b[0m\u001b[1;33m\u001b[0m\u001b[0m\n\u001b[1;32m----> 2\u001b[1;33m \u001b[0mnumpy\u001b[0m\u001b[1;33m.\u001b[0m\u001b[0msavetxt\u001b[0m\u001b[1;33m(\u001b[0m\u001b[1;34m''\u001b[0m\u001b[1;33m+\u001b[0m\u001b[0msearch_term\u001b[0m\u001b[1;33m+\u001b[0m\u001b[1;34m'.csv'\u001b[0m\u001b[1;33m,\u001b[0m \u001b[0mproducts_main\u001b[0m\u001b[1;33m,\u001b[0m \u001b[0mdelimiter\u001b[0m\u001b[1;33m=\u001b[0m\u001b[1;34m\",\"\u001b[0m\u001b[1;33m)\u001b[0m\u001b[1;33m\u001b[0m\u001b[1;33m\u001b[0m\u001b[0m\n\u001b[0m",
      "\u001b[1;32m<__array_function__ internals>\u001b[0m in \u001b[0;36msavetxt\u001b[1;34m(*args, **kwargs)\u001b[0m\n",
      "\u001b[1;32mc:\\python38\\lib\\site-packages\\numpy\\lib\\npyio.py\u001b[0m in \u001b[0;36msavetxt\u001b[1;34m(fname, X, fmt, delimiter, newline, header, footer, comments, encoding)\u001b[0m\n\u001b[0;32m   1424\u001b[0m                     \u001b[0mv\u001b[0m \u001b[1;33m=\u001b[0m \u001b[0mformat\u001b[0m \u001b[1;33m%\u001b[0m \u001b[0mtuple\u001b[0m\u001b[1;33m(\u001b[0m\u001b[0mrow\u001b[0m\u001b[1;33m)\u001b[0m \u001b[1;33m+\u001b[0m \u001b[0mnewline\u001b[0m\u001b[1;33m\u001b[0m\u001b[1;33m\u001b[0m\u001b[0m\n\u001b[0;32m   1425\u001b[0m                 \u001b[1;32mexcept\u001b[0m \u001b[0mTypeError\u001b[0m\u001b[1;33m:\u001b[0m\u001b[1;33m\u001b[0m\u001b[1;33m\u001b[0m\u001b[0m\n\u001b[1;32m-> 1426\u001b[1;33m                     raise TypeError(\"Mismatch between array dtype ('%s') and \"\n\u001b[0m\u001b[0;32m   1427\u001b[0m                                     \u001b[1;34m\"format specifier ('%s')\"\u001b[0m\u001b[1;33m\u001b[0m\u001b[1;33m\u001b[0m\u001b[0m\n\u001b[0;32m   1428\u001b[0m                                     % (str(X.dtype), format))\n",
      "\u001b[1;31mTypeError\u001b[0m: Mismatch between array dtype ('object') and format specifier ('%.18e,%.18e')"
     ]
    }
   ],
   "source": [
    "products_main = numpy.asarray(rep)\n",
    "numpy.savetxt(''+search_term+'.csv', products_main, delimiter=\",\")"
   ]
  },
  {
   "cell_type": "code",
   "execution_count": null,
   "metadata": {},
   "outputs": [],
   "source": []
  },
  {
   "cell_type": "code",
   "execution_count": null,
   "metadata": {},
   "outputs": [],
   "source": []
  },
  {
   "cell_type": "code",
   "execution_count": null,
   "metadata": {},
   "outputs": [],
   "source": []
  }
 ],
 "metadata": {
  "kernelspec": {
   "display_name": "Python 3",
   "language": "python",
   "name": "python3"
  },
  "language_info": {
   "codemirror_mode": {
    "name": "ipython",
    "version": 3
   },
   "file_extension": ".py",
   "mimetype": "text/x-python",
   "name": "python",
   "nbconvert_exporter": "python",
   "pygments_lexer": "ipython3",
   "version": "3.8.6"
  }
 },
 "nbformat": 4,
 "nbformat_minor": 4
}
